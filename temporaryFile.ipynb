{
 "cells": [
  {
   "cell_type": "code",
   "execution_count": null,
   "id": "1fa26df9",
   "metadata": {},
   "outputs": [],
   "source": [
    "# === TEST PRINT AN INDIVIDUAL ===\n",
    "individual = LeagueIndividual(players_by_position, TEAM_STRUCTURE, BUDGET_LIMIT, NUM_TEAMS)\n",
    "\n",
    "# Print result\n",
    "print(\"\\n=== One League Example ===\")\n",
    "for i, team in enumerate(individual.league):\n",
    "    print(f\"\\n🏆 Team {i + 1}\")\n",
    "    print(team)\n",
    "    print(f\"Avg Skill: {team.avg_skill():.2f} | Total Salary: €{team.total_salary()}M\")\n",
    "\n",
    "print(f\"\\nFitness: {individual.fitness:.4f}\")"
   ]
  },
  {
   "cell_type": "code",
   "execution_count": null,
   "id": "c0f3a862",
   "metadata": {},
   "outputs": [],
   "source": [
    "# === PRINT POPULATION DETAILS ===\n",
    "for idx, indiv in enumerate(population):\n",
    "    print(\"\\n\" + \"=\" * 35)\n",
    "    print(f\"🏟️  League (Individual) {idx + 1}\")\n",
    "    print(\"=\" * 35)\n",
    "\n",
    "    for tidx, team in enumerate(indiv.league):\n",
    "        print(f\"\\n  🏆 Team {tidx + 1}\")\n",
    "        print(team)\n",
    "        print(f\"    📊 Avg Skill: {team.avg_skill():.2f}\")\n",
    "        print(f\"    💰 Total Salary: €{team.total_salary()}M\")\n",
    "\n",
    "    print(f\"\\n  ➤ League Fitness (Std Dev of team avg skill): {indiv.fitness:.4f}\")\n"
   ]
  }
 ],
 "metadata": {
  "language_info": {
   "name": "python"
  }
 },
 "nbformat": 4,
 "nbformat_minor": 5
}
