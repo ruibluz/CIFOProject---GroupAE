{
 "cells": [
  {
   "cell_type": "markdown",
   "id": "5f312bd8",
   "metadata": {},
   "source": [
    "# Objective\n",
    "\n",
    "Create a balanced league that complies with the constraints. This is, a league where the average skill rating of the players is roughly tge same amoung the teams. This can be measured by the standard deviation of the average skill rating of the teams."
   ]
  },
  {
   "cell_type": "markdown",
   "id": "d7e9bde0",
   "metadata": {},
   "source": [
    "# Requirements\n",
    "\n",
    "Must implement:\n",
    " - the fitness function\n",
    " - at least 3 mutation operators\n",
    " - at least 2 crossover operators\n",
    " - at least 2 selection mechanisms"
   ]
  },
  {
   "cell_type": "markdown",
   "id": "98cea06d",
   "metadata": {},
   "source": [
    "# Constraints"
   ]
  },
  {
   "cell_type": "code",
   "execution_count": 1236,
   "id": "ee0309a7",
   "metadata": {},
   "outputs": [],
   "source": [
    "c_structure = [\"GK\", \"DF\", \"DF\", \"MF\", \"MF\", \"FW\", \"FW\"]\n",
    "c_team_per_player = 1\n",
    "c_total_budget = 750 # €M"
   ]
  },
  {
   "cell_type": "code",
   "execution_count": 1237,
   "id": "8053ebe4",
   "metadata": {},
   "outputs": [],
   "source": [
    "class Player:\n",
    "        # Constructor to initialize attributes\n",
    "\n",
    "    def __init__(self, name: str, position: str, skill: int, salary: int):\n",
    "        # self is a reference to the current instance of the class\n",
    "        self.name = name\n",
    "        self.position = position\n",
    "        self.skill = skill\n",
    "        self.salary = salary # Salary in €M\n",
    "\n",
    "    def __repr__(self):\n",
    "        return f\"{self.name} ({self.position}) - Skill: {self.skill}, Salary: {self.salary}€M\""
   ]
  },
  {
   "cell_type": "markdown",
   "id": "773b35f9",
   "metadata": {},
   "source": [
    "# Selection Algorithms\n",
    "- Fitness Proportional Selection (Roulette Wheel)\n",
    "- Rank Selection\n",
    "- Tournament Selection"
   ]
  },
  {
   "cell_type": "code",
   "execution_count": 1238,
   "id": "dfb59cec",
   "metadata": {},
   "outputs": [],
   "source": [
    "import random\n",
    "\n",
    "# Fitness proportional selection (roulette wheel)\n",
    "def sel_roulette(population, fitness, num=1):\n",
    "    \"\"\"\n",
    "    Selects individuals from the population based on their fitness using roulette wheel selection.\n",
    "    Args:\n",
    "        population (list): The population of individuals.\n",
    "        fitness (list): The fitness values of the individuals in the population.\n",
    "        num (int): The number of individuals to select.\n",
    "    \"\"\"\n",
    "    # P(\"Selecting individual i\") = fitness(i) / sum(fitness(j) for j in population) -> Maximization\n",
    "    # 1/P(\"Selecting individual i\") -> Mini\n",
    "\n",
    "    sum_fit = sum(fitness)\n",
    "    prob = []\n",
    "    for i in range(len(population)):\n",
    "        prob.append(1/(fitness[i] / sum_fit))\n",
    "    selected = random.choices(population, weights=prob, k=num)\n",
    "    \n",
    "    return selected"
   ]
  },
  {
   "cell_type": "code",
   "execution_count": 1246,
   "id": "603bbc3f",
   "metadata": {},
   "outputs": [
    {
     "data": {
      "text/plain": [
       "['Sporting']"
      ]
     },
     "execution_count": 1246,
     "metadata": {},
     "output_type": "execute_result"
    }
   ],
   "source": [
    "pop = [\"Benfica\", \"Maritimo\", \"Estrela\", \"Sporting\", \"Andorra\", \"Lynx FC\"]\n",
    "gap = [50, 200, 30, 2, 300, 15]\n",
    "\n",
    "# expected order = Sporting, Lynx FC, Estrela, Benfica, Maritimo, Andorra\n",
    "sel_roulette(pop, gap)"
   ]
  },
  {
   "cell_type": "code",
   "execution_count": 984,
   "id": "5f9f7676",
   "metadata": {},
   "outputs": [],
   "source": [
    "# Ranking selection\n",
    "def sel_rank(population, fitness, num=1):\n",
    "    \"\"\"\n",
    "    Selects individuals from the population based on their rank in fitness.\n",
    "    Args:\n",
    "        population (list): The population of individuals.\n",
    "        fitness (list): The fitness values of the individuals in the population.\n",
    "        num (int): The number of individuals to select.\n",
    "    \"\"\"\n",
    "    # Sort the population by fitness\n",
    "    sorted_pop = sorted(zip(population, fitness), key=lambda x: x[1], reverse=True) # Starts on Rank 1 for the worst fitness, and goes up to Rank n for the best fitness\n",
    "    sum_rank = sum(range(1, len(sorted_pop) + 1)) # Sum of ranking indexes\n",
    "    prob = []\n",
    "    for i in range(len(sorted_pop)):\n",
    "        prob.append((i + 1) / sum_rank)\n",
    "    selected = random.choices([x[0] for x in sorted_pop], weights=prob, k=num)\n",
    "\n",
    "    return selected"
   ]
  },
  {
   "cell_type": "code",
   "execution_count": 1228,
   "id": "dcb6c802",
   "metadata": {},
   "outputs": [
    {
     "data": {
      "text/plain": [
       "['Maritimo',\n",
       " 'Lynx FC',\n",
       " 'Lynx FC',\n",
       " 'Sporting',\n",
       " 'Sporting',\n",
       " 'Sporting',\n",
       " 'Sporting',\n",
       " 'Lynx FC',\n",
       " 'Benfica',\n",
       " 'Sporting',\n",
       " 'Sporting',\n",
       " 'Andorra',\n",
       " 'Benfica',\n",
       " 'Lynx FC',\n",
       " 'Benfica',\n",
       " 'Andorra',\n",
       " 'Sporting',\n",
       " 'Benfica',\n",
       " 'Lynx FC',\n",
       " 'Maritimo',\n",
       " 'Sporting',\n",
       " 'Sporting',\n",
       " 'Maritimo',\n",
       " 'Lynx FC',\n",
       " 'Sporting',\n",
       " 'Estrela',\n",
       " 'Benfica',\n",
       " 'Andorra',\n",
       " 'Estrela',\n",
       " 'Maritimo',\n",
       " 'Andorra',\n",
       " 'Lynx FC',\n",
       " 'Lynx FC',\n",
       " 'Lynx FC',\n",
       " 'Lynx FC',\n",
       " 'Lynx FC',\n",
       " 'Maritimo',\n",
       " 'Maritimo',\n",
       " 'Lynx FC',\n",
       " 'Estrela',\n",
       " 'Sporting',\n",
       " 'Sporting',\n",
       " 'Lynx FC',\n",
       " 'Benfica',\n",
       " 'Sporting',\n",
       " 'Lynx FC',\n",
       " 'Maritimo',\n",
       " 'Sporting',\n",
       " 'Sporting',\n",
       " 'Benfica',\n",
       " 'Estrela',\n",
       " 'Lynx FC',\n",
       " 'Sporting',\n",
       " 'Estrela',\n",
       " 'Lynx FC',\n",
       " 'Sporting',\n",
       " 'Lynx FC',\n",
       " 'Sporting',\n",
       " 'Andorra',\n",
       " 'Andorra',\n",
       " 'Sporting',\n",
       " 'Andorra',\n",
       " 'Sporting',\n",
       " 'Estrela',\n",
       " 'Lynx FC',\n",
       " 'Benfica',\n",
       " 'Lynx FC',\n",
       " 'Sporting',\n",
       " 'Lynx FC',\n",
       " 'Sporting',\n",
       " 'Maritimo',\n",
       " 'Estrela',\n",
       " 'Sporting',\n",
       " 'Estrela',\n",
       " 'Andorra',\n",
       " 'Sporting',\n",
       " 'Sporting',\n",
       " 'Lynx FC',\n",
       " 'Lynx FC',\n",
       " 'Sporting',\n",
       " 'Lynx FC',\n",
       " 'Lynx FC',\n",
       " 'Estrela',\n",
       " 'Estrela',\n",
       " 'Benfica',\n",
       " 'Andorra',\n",
       " 'Estrela',\n",
       " 'Maritimo',\n",
       " 'Maritimo',\n",
       " 'Benfica',\n",
       " 'Estrela',\n",
       " 'Sporting',\n",
       " 'Andorra',\n",
       " 'Sporting',\n",
       " 'Estrela',\n",
       " 'Sporting',\n",
       " 'Sporting',\n",
       " 'Lynx FC',\n",
       " 'Lynx FC',\n",
       " 'Sporting']"
      ]
     },
     "execution_count": 1228,
     "metadata": {},
     "output_type": "execute_result"
    }
   ],
   "source": [
    "rank_results_100 = sel_rank(pop, gap, 100)\n",
    "rank_results_100"
   ]
  },
  {
   "cell_type": "code",
   "execution_count": 1247,
   "id": "0367c5cb",
   "metadata": {},
   "outputs": [
    {
     "data": {
      "text/plain": [
       "['Sporting',\n",
       " 'Lynx FC',\n",
       " 'Sporting',\n",
       " 'Sporting',\n",
       " 'Sporting',\n",
       " 'Sporting',\n",
       " 'Lynx FC',\n",
       " 'Sporting',\n",
       " 'Lynx FC',\n",
       " 'Sporting',\n",
       " 'Lynx FC',\n",
       " 'Sporting',\n",
       " 'Sporting',\n",
       " 'Sporting',\n",
       " 'Benfica',\n",
       " 'Sporting',\n",
       " 'Lynx FC',\n",
       " 'Sporting',\n",
       " 'Sporting',\n",
       " 'Lynx FC',\n",
       " 'Sporting',\n",
       " 'Estrela',\n",
       " 'Estrela',\n",
       " 'Sporting',\n",
       " 'Lynx FC',\n",
       " 'Sporting',\n",
       " 'Sporting',\n",
       " 'Sporting',\n",
       " 'Sporting',\n",
       " 'Lynx FC',\n",
       " 'Sporting',\n",
       " 'Sporting',\n",
       " 'Benfica',\n",
       " 'Sporting',\n",
       " 'Sporting',\n",
       " 'Sporting',\n",
       " 'Sporting',\n",
       " 'Sporting',\n",
       " 'Estrela',\n",
       " 'Sporting',\n",
       " 'Sporting',\n",
       " 'Sporting',\n",
       " 'Sporting',\n",
       " 'Sporting',\n",
       " 'Sporting',\n",
       " 'Sporting',\n",
       " 'Sporting',\n",
       " 'Sporting',\n",
       " 'Sporting',\n",
       " 'Estrela',\n",
       " 'Sporting',\n",
       " 'Sporting',\n",
       " 'Sporting',\n",
       " 'Sporting',\n",
       " 'Sporting',\n",
       " 'Sporting',\n",
       " 'Sporting',\n",
       " 'Sporting',\n",
       " 'Sporting',\n",
       " 'Sporting',\n",
       " 'Sporting',\n",
       " 'Sporting',\n",
       " 'Sporting',\n",
       " 'Sporting',\n",
       " 'Sporting',\n",
       " 'Sporting',\n",
       " 'Sporting',\n",
       " 'Sporting',\n",
       " 'Sporting',\n",
       " 'Sporting',\n",
       " 'Estrela',\n",
       " 'Sporting',\n",
       " 'Sporting',\n",
       " 'Sporting',\n",
       " 'Sporting',\n",
       " 'Sporting',\n",
       " 'Sporting',\n",
       " 'Sporting',\n",
       " 'Sporting',\n",
       " 'Sporting',\n",
       " 'Sporting',\n",
       " 'Sporting',\n",
       " 'Sporting',\n",
       " 'Sporting',\n",
       " 'Sporting',\n",
       " 'Benfica',\n",
       " 'Sporting',\n",
       " 'Sporting',\n",
       " 'Lynx FC',\n",
       " 'Sporting',\n",
       " 'Lynx FC',\n",
       " 'Sporting',\n",
       " 'Lynx FC',\n",
       " 'Sporting',\n",
       " 'Sporting',\n",
       " 'Sporting',\n",
       " 'Estrela',\n",
       " 'Sporting',\n",
       " 'Sporting',\n",
       " 'Sporting']"
      ]
     },
     "execution_count": 1247,
     "metadata": {},
     "output_type": "execute_result"
    }
   ],
   "source": [
    "weel_results_100 = sel_roulette(pop, gap, 100)\n",
    "weel_results_100"
   ]
  },
  {
   "cell_type": "code",
   "execution_count": null,
   "id": "e73ef348",
   "metadata": {},
   "outputs": [],
   "source": [
    "# Tournament selection\n",
    "def sel_tournament(population, fitness, k, num=1):\n",
    "    \"\"\"\n",
    "    Selects individuals from the population using tournament selection.\n",
    "    Args:\n",
    "        population (list): The population of individuals.\n",
    "        fitness (list): The fitness values of the individuals in the population.\n",
    "        k (int): The number of individuals in each tournament, this is, tournament size.\n",
    "        num (int): The number of individuals to select.\n",
    "    \"\"\"\n",
    "    selected = []\n",
    "    \n",
    "    for n in range(num):\n",
    "        # Randomly select k individuals from the population\n",
    "        tournament = random.sample(list(zip(population, fitness)), k)\n",
    "        tournament.sort(key=lambda x: x[1])\n",
    "        # Select the best individual from the tournament\n",
    "        best_individual = tournament[0]\n",
    "        selected.append(best_individual[0])\n",
    "\n",
    "    return selected"
   ]
  },
  {
   "cell_type": "code",
   "execution_count": 1224,
   "id": "12aff7ff",
   "metadata": {},
   "outputs": [
    {
     "data": {
      "text/plain": [
       "['Sporting',\n",
       " 'Sporting',\n",
       " 'Estrela',\n",
       " 'Sporting',\n",
       " 'Lynx FC',\n",
       " 'Sporting',\n",
       " 'Sporting',\n",
       " 'Sporting',\n",
       " 'Estrela',\n",
       " 'Lynx FC',\n",
       " 'Lynx FC',\n",
       " 'Sporting',\n",
       " 'Lynx FC',\n",
       " 'Sporting',\n",
       " 'Sporting',\n",
       " 'Sporting',\n",
       " 'Sporting',\n",
       " 'Lynx FC',\n",
       " 'Lynx FC',\n",
       " 'Sporting',\n",
       " 'Sporting',\n",
       " 'Lynx FC',\n",
       " 'Sporting',\n",
       " 'Lynx FC',\n",
       " 'Sporting',\n",
       " 'Estrela',\n",
       " 'Benfica',\n",
       " 'Estrela',\n",
       " 'Sporting',\n",
       " 'Lynx FC',\n",
       " 'Estrela',\n",
       " 'Sporting',\n",
       " 'Lynx FC',\n",
       " 'Sporting',\n",
       " 'Lynx FC',\n",
       " 'Estrela',\n",
       " 'Lynx FC',\n",
       " 'Sporting',\n",
       " 'Sporting',\n",
       " 'Sporting',\n",
       " 'Lynx FC',\n",
       " 'Sporting',\n",
       " 'Sporting',\n",
       " 'Sporting',\n",
       " 'Sporting',\n",
       " 'Estrela',\n",
       " 'Estrela',\n",
       " 'Sporting',\n",
       " 'Estrela',\n",
       " 'Sporting',\n",
       " 'Lynx FC',\n",
       " 'Lynx FC',\n",
       " 'Estrela',\n",
       " 'Sporting',\n",
       " 'Sporting',\n",
       " 'Benfica',\n",
       " 'Sporting',\n",
       " 'Lynx FC',\n",
       " 'Lynx FC',\n",
       " 'Sporting',\n",
       " 'Estrela',\n",
       " 'Lynx FC',\n",
       " 'Lynx FC',\n",
       " 'Lynx FC',\n",
       " 'Lynx FC',\n",
       " 'Sporting',\n",
       " 'Lynx FC',\n",
       " 'Lynx FC',\n",
       " 'Sporting',\n",
       " 'Estrela',\n",
       " 'Estrela',\n",
       " 'Benfica',\n",
       " 'Lynx FC',\n",
       " 'Estrela',\n",
       " 'Lynx FC',\n",
       " 'Lynx FC',\n",
       " 'Lynx FC',\n",
       " 'Sporting',\n",
       " 'Sporting',\n",
       " 'Lynx FC',\n",
       " 'Estrela',\n",
       " 'Lynx FC',\n",
       " 'Sporting',\n",
       " 'Sporting',\n",
       " 'Lynx FC',\n",
       " 'Sporting',\n",
       " 'Sporting',\n",
       " 'Sporting',\n",
       " 'Lynx FC',\n",
       " 'Sporting',\n",
       " 'Sporting',\n",
       " 'Sporting',\n",
       " 'Lynx FC',\n",
       " 'Estrela',\n",
       " 'Sporting',\n",
       " 'Sporting',\n",
       " 'Sporting',\n",
       " 'Estrela',\n",
       " 'Sporting',\n",
       " 'Benfica']"
      ]
     },
     "execution_count": 1224,
     "metadata": {},
     "output_type": "execute_result"
    }
   ],
   "source": [
    "tourn_results_100 = sel_tournament(pop, gap, 3, 100)\n",
    "tourn_results_100"
   ]
  },
  {
   "cell_type": "code",
   "execution_count": 1248,
   "id": "9bdaf09a",
   "metadata": {},
   "outputs": [
    {
     "name": "stdout",
     "output_type": "stream",
     "text": [
      "Wheel Selection Results\n"
     ]
    },
    {
     "data": {
      "image/png": "[encoded data removed]",
      "text/plain": [
       "<Figure size 640x480 with 1 Axes>"
      ]
     },
     "metadata": {},
     "output_type": "display_data"
    },
    {
     "name": "stdout",
     "output_type": "stream",
     "text": [
      "Ranking Selection Results\n"
     ]
    },
    {
     "data": {
      "image/png": "[encoded data removed]",
      "text/plain": [
       "<Figure size 640x480 with 1 Axes>"
      ]
     },
     "metadata": {},
     "output_type": "display_data"
    },
    {
     "name": "stdout",
     "output_type": "stream",
     "text": [
      "Tournament Selection Results\n"
     ]
    },
    {
     "data": {
      "image/png": "[encoded data removed]",
      "text/plain": [
       "<Figure size 640x480 with 1 Axes>"
      ]
     },
     "metadata": {},
     "output_type": "display_data"
    }
   ],
   "source": [
    "# barplot the results\n",
    "\n",
    "import matplotlib.pyplot as plt\n",
    "import numpy as np\n",
    "\n",
    "# make Y axis the count and X axis the names, use the results_100\n",
    "def plot_results(results):\n",
    "    counts = {}\n",
    "    for result in results:\n",
    "        if result in counts:\n",
    "            counts[result] += 1\n",
    "        else:\n",
    "            counts[result] = 1\n",
    "\n",
    "    names = list(counts.keys())\n",
    "    values = list(counts.values())\n",
    "\n",
    "    y_pos = np.arange(len(names))\n",
    "\n",
    "    plt.bar(y_pos, values, align='center', alpha=0.5)\n",
    "    plt.xticks(y_pos, names)\n",
    "    plt.ylabel('Count')\n",
    "    plt.title('Ranking Selection Results')\n",
    "\n",
    "    plt.show()\n",
    "\n",
    "print(\"Wheel Selection Results\")\n",
    "plot_results(weel_results_100)\n",
    "print(\"Ranking Selection Results\")\n",
    "plot_results(rank_results_100)\n",
    "print(\"Tournament Selection Results\")\n",
    "plot_results(tourn_results_100)\n"
   ]
  }
 ],
 "metadata": {
  "kernelspec": {
   "display_name": "Python 3",
   "language": "python",
   "name": "python3"
  },
  "language_info": {
   "codemirror_mode": {
    "name": "ipython",
    "version": 3
   },
   "file_extension": ".py",
   "mimetype": "text/x-python",
   "name": "python",
   "nbconvert_exporter": "python",
   "pygments_lexer": "ipython3",
   "version": "3.13.2"
  }
 },
 "nbformat": 4,
 "nbformat_minor": 5
}
