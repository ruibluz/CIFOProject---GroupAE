{
 "cells": [
  {
   "cell_type": "markdown",
   "id": "d03de2aa",
   "metadata": {},
   "source": [
    "<div style=\"display: flex; align-items: center; justify-content: center; flex-wrap: wrap;\">\n",
    "    <div style=\"flex: 1; max-width: 400px; display: flex; justify-content: center;\">\n",
    "        <img src=\"https://diretorio.bad.pt/wp-content/uploads/2015/09/55c9dc4270c60-IMS-rgb_logo.png\" style=\"max-width: 50%; height: auto; margin-top: 50px; margin-bottom: 50px;margin-left: 6rem;\">\n",
    "    </div>\n",
    "    <div style=\"flex: 2; text-align: center; margin-top: 20px;margin-left: 8rem;\">\n",
    "        <div style=\"font-size: 28px; font-weight: bold; line-height: 1.2;\">\n",
    "            <span style=\"color:rgb(190, 214, 47);\">CIFO Project |</span> <span style=\"color:rgb(92, 102, 108);\">Sports League: Optimization using Genetic Algorithms</span>\n",
    "        </div>\n",
    "        <div style=\"font-size: 17px; font-weight: bold; margin-top: 10px;\">\n",
    "            Spring Semester | 2024 - 2025\n",
    "        </div>\n",
    "        <div style=\"font-size: 17px; font-weight: bold;\">\n",
    "            Master in Data Science and Advanced Analytics\n",
    "        </div>\n",
    "        <div style=\"margin-top: 20px;\">\n",
    "            <div>Diogo Duarte, 20240525</div>\n",
    "            <div>Rodrigo Sardinha, 20211627</div>\n",
    "            <div>Rui Luz, 20211628</div>\n",
    "        </div>\n",
    "        <div style=\"margin-top: 20px; font-weight: bold;\">\n",
    "            Group AE\n",
    "        </div>\n",
    "    </div>\n",
    "</div>"
   ]
  },
  {
   "cell_type": "markdown",
   "id": "817f7702",
   "metadata": {},
   "source": [
    "<div style=\"background: linear-gradient(to right,rgb(190, 214, 47), rgb(92, 102, 108));\n",
    "            padding: 1px; color: white; border-radius: 500px; text-align: center;\">\n",
    "</div>"
   ]
  },
  {
   "cell_type": "markdown",
   "id": "c2ca3ef3",
   "metadata": {},
   "source": [
    "# Imports"
   ]
  },
  {
   "cell_type": "code",
   "execution_count": 1,
   "id": "cdc97244",
   "metadata": {},
   "outputs": [],
   "source": [
    "import pandas as pd\n",
    "import random\n",
    "\n",
    "from utils.Classes import Player, Team, LeagueIndividual\n",
    "from utils.GA_utils import select_parents\n",
    "from algorithms.GA_mutation import mutation_swap_players, mutation_regenerate_team, mutation_balance_teams\n",
    "from algorithms.GA_crossover import team_crossover, position_crossover\n",
    "from algorithms.GA_selection import sel_roulette, sel_rank, sel_tournament\n",
    "from solutions.GASolution import GASolution\n",
    "\n",
    "import matplotlib.pyplot as plt\n",
    "from collections import Counter"
   ]
  },
  {
   "cell_type": "markdown",
   "id": "1c8df12e",
   "metadata": {},
   "source": [
    "# Local Data"
   ]
  },
  {
   "cell_type": "code",
   "execution_count": 2,
   "id": "15147c6f",
   "metadata": {},
   "outputs": [],
   "source": [
    "df = pd.read_csv(\"data/players.csv\")\n",
    "df = df.drop(columns=['Unnamed: 0']) # drop the index column"
   ]
  },
  {
   "cell_type": "markdown",
   "id": "69775eb9",
   "metadata": {},
   "source": [
    "# Problem Configuration"
   ]
  },
  {
   "cell_type": "code",
   "execution_count": 3,
   "id": "bee5038c",
   "metadata": {},
   "outputs": [],
   "source": [
    "TEAM_SIZE = 7\n",
    "NUM_TEAMS = 5\n",
    "BUDGET_LIMIT = 750\n",
    "TEAM_STRUCTURE = {\"GK\": 1, \"DEF\": 2, \"MID\": 2, \"FWD\": 2}\n",
    "POPULATION_SIZE = 20"
   ]
  },
  {
   "cell_type": "markdown",
   "id": "f4211c45",
   "metadata": {},
   "source": [
    "# Convert DF to player objects"
   ]
  },
  {
   "cell_type": "code",
   "execution_count": 4,
   "id": "3cedf842",
   "metadata": {},
   "outputs": [],
   "source": [
    "players_by_position = {\n",
    "    pos: [Player.from_dict(row) for _, row in df[df['Position'] == pos].iterrows()]\n",
    "    for pos in TEAM_STRUCTURE\n",
    "}"
   ]
  },
  {
   "cell_type": "markdown",
   "id": "e7f3ac2a",
   "metadata": {},
   "source": [
    "# Generate Population"
   ]
  },
  {
   "cell_type": "code",
   "execution_count": 5,
   "id": "47f86e6b",
   "metadata": {},
   "outputs": [],
   "source": [
    "# === GENERATE POPULATION ===\n",
    "def generate_initial_population(size, players_by_position, team_structure, budget_limit, num_teams):\n",
    "    population = []\n",
    "    attempts = 0\n",
    "    max_attempts = 1000 # avoid infinite loop if unable to generate valid leagues\n",
    "\n",
    "    while len(population) < size and attempts < max_attempts:\n",
    "        indiv = LeagueIndividual(players_by_position, team_structure, budget_limit, num_teams)\n",
    "        if indiv.league is not None:\n",
    "            population.append(indiv)\n",
    "        attempts += 1\n",
    "\n",
    "    return population\n",
    "\n",
    "population = generate_initial_population(\n",
    "    POPULATION_SIZE,\n",
    "    players_by_position,\n",
    "    TEAM_STRUCTURE,\n",
    "    BUDGET_LIMIT, \n",
    "    NUM_TEAMS\n",
    ")"
   ]
  },
  {
   "cell_type": "markdown",
   "id": "de7a7194",
   "metadata": {},
   "source": [
    "### Testing population generation"
   ]
  },
  {
   "cell_type": "code",
   "execution_count": 6,
   "id": "9c6963b7",
   "metadata": {},
   "outputs": [
    {
     "name": "stdout",
     "output_type": "stream",
     "text": [
      "\n",
      "🏟️ League 1 | 🧬 Fitness: 1.2302\n",
      "  🏆 Team 1 | 🧍 Positions: ['GK', 'DEF', 'DEF', 'MID', 'MID', 'FWD', 'FWD'] | 📊 Avg Skill: 86.71 | 💰 Salary: 682M\n",
      "  🏆 Team 2 | 🧍 Positions: ['GK', 'DEF', 'DEF', 'MID', 'MID', 'FWD', 'FWD'] | 📊 Avg Skill: 86.29 | 💰 Salary: 675M\n",
      "  🏆 Team 3 | 🧍 Positions: ['GK', 'DEF', 'DEF', 'MID', 'MID', 'FWD', 'FWD'] | 📊 Avg Skill: 88.29 | 💰 Salary: 745M\n",
      "  🏆 Team 4 | 🧍 Positions: ['GK', 'DEF', 'DEF', 'MID', 'MID', 'FWD', 'FWD'] | 📊 Avg Skill: 84.43 | 💰 Salary: 635M\n",
      "  🏆 Team 5 | 🧍 Positions: ['GK', 'DEF', 'DEF', 'MID', 'MID', 'FWD', 'FWD'] | 📊 Avg Skill: 86.29 | 💰 Salary: 687M\n",
      "\n",
      "🏟️ League 2 | 🧬 Fitness: 1.8766\n",
      "  🏆 Team 1 | 🧍 Positions: ['GK', 'DEF', 'DEF', 'MID', 'MID', 'FWD', 'FWD'] | 📊 Avg Skill: 82.86 | 💰 Salary: 577M\n",
      "  🏆 Team 2 | 🧍 Positions: ['GK', 'DEF', 'DEF', 'MID', 'MID', 'FWD', 'FWD'] | 📊 Avg Skill: 87.86 | 💰 Salary: 750M\n",
      "  🏆 Team 3 | 🧍 Positions: ['GK', 'DEF', 'DEF', 'MID', 'MID', 'FWD', 'FWD'] | 📊 Avg Skill: 88.00 | 💰 Salary: 730M\n",
      "  🏆 Team 4 | 🧍 Positions: ['GK', 'DEF', 'DEF', 'MID', 'MID', 'FWD', 'FWD'] | 📊 Avg Skill: 86.29 | 💰 Salary: 667M\n",
      "  🏆 Team 5 | 🧍 Positions: ['GK', 'DEF', 'DEF', 'MID', 'MID', 'FWD', 'FWD'] | 📊 Avg Skill: 87.00 | 💰 Salary: 700M\n",
      "\n",
      "🏟️ League 3 | 🧬 Fitness: 0.9450\n",
      "  🏆 Team 1 | 🧍 Positions: ['GK', 'DEF', 'DEF', 'MID', 'MID', 'FWD', 'FWD'] | 📊 Avg Skill: 85.14 | 💰 Salary: 652M\n",
      "  🏆 Team 2 | 🧍 Positions: ['GK', 'DEF', 'DEF', 'MID', 'MID', 'FWD', 'FWD'] | 📊 Avg Skill: 87.57 | 💰 Salary: 715M\n",
      "  🏆 Team 3 | 🧍 Positions: ['GK', 'DEF', 'DEF', 'MID', 'MID', 'FWD', 'FWD'] | 📊 Avg Skill: 87.43 | 💰 Salary: 712M\n",
      "  🏆 Team 4 | 🧍 Positions: ['GK', 'DEF', 'DEF', 'MID', 'MID', 'FWD', 'FWD'] | 📊 Avg Skill: 86.00 | 💰 Salary: 665M\n",
      "  🏆 Team 5 | 🧍 Positions: ['GK', 'DEF', 'DEF', 'MID', 'MID', 'FWD', 'FWD'] | 📊 Avg Skill: 85.86 | 💰 Salary: 680M\n",
      "\n",
      "🏟️ League 4 | 🧬 Fitness: 1.1759\n",
      "  🏆 Team 1 | 🧍 Positions: ['GK', 'DEF', 'DEF', 'MID', 'MID', 'FWD', 'FWD'] | 📊 Avg Skill: 84.43 | 💰 Salary: 622M\n",
      "  🏆 Team 2 | 🧍 Positions: ['GK', 'DEF', 'DEF', 'MID', 'MID', 'FWD', 'FWD'] | 📊 Avg Skill: 86.86 | 💰 Salary: 710M\n",
      "  🏆 Team 3 | 🧍 Positions: ['GK', 'DEF', 'DEF', 'MID', 'MID', 'FWD', 'FWD'] | 📊 Avg Skill: 88.00 | 💰 Salary: 725M\n",
      "  🏆 Team 4 | 🧍 Positions: ['GK', 'DEF', 'DEF', 'MID', 'MID', 'FWD', 'FWD'] | 📊 Avg Skill: 86.71 | 💰 Salary: 682M\n",
      "  🏆 Team 5 | 🧍 Positions: ['GK', 'DEF', 'DEF', 'MID', 'MID', 'FWD', 'FWD'] | 📊 Avg Skill: 86.00 | 💰 Salary: 685M\n",
      "\n",
      "🏟️ League 5 | 🧬 Fitness: 1.3230\n",
      "  🏆 Team 1 | 🧍 Positions: ['GK', 'DEF', 'DEF', 'MID', 'MID', 'FWD', 'FWD'] | 📊 Avg Skill: 84.71 | 💰 Salary: 635M\n",
      "  🏆 Team 2 | 🧍 Positions: ['GK', 'DEF', 'DEF', 'MID', 'MID', 'FWD', 'FWD'] | 📊 Avg Skill: 88.43 | 💰 Salary: 740M\n",
      "  🏆 Team 3 | 🧍 Positions: ['GK', 'DEF', 'DEF', 'MID', 'MID', 'FWD', 'FWD'] | 📊 Avg Skill: 85.43 | 💰 Salary: 642M\n",
      "  🏆 Team 4 | 🧍 Positions: ['GK', 'DEF', 'DEF', 'MID', 'MID', 'FWD', 'FWD'] | 📊 Avg Skill: 87.29 | 💰 Salary: 730M\n",
      "  🏆 Team 5 | 🧍 Positions: ['GK', 'DEF', 'DEF', 'MID', 'MID', 'FWD', 'FWD'] | 📊 Avg Skill: 86.14 | 💰 Salary: 677M\n",
      "\n",
      "🏟️ League 6 | 🧬 Fitness: 0.7581\n",
      "  🏆 Team 1 | 🧍 Positions: ['GK', 'DEF', 'DEF', 'MID', 'MID', 'FWD', 'FWD'] | 📊 Avg Skill: 86.29 | 💰 Salary: 687M\n",
      "  🏆 Team 2 | 🧍 Positions: ['GK', 'DEF', 'DEF', 'MID', 'MID', 'FWD', 'FWD'] | 📊 Avg Skill: 86.86 | 💰 Salary: 717M\n",
      "  🏆 Team 3 | 🧍 Positions: ['GK', 'DEF', 'DEF', 'MID', 'MID', 'FWD', 'FWD'] | 📊 Avg Skill: 87.43 | 💰 Salary: 710M\n",
      "  🏆 Team 4 | 🧍 Positions: ['GK', 'DEF', 'DEF', 'MID', 'MID', 'FWD', 'FWD'] | 📊 Avg Skill: 85.14 | 💰 Salary: 635M\n",
      "  🏆 Team 5 | 🧍 Positions: ['GK', 'DEF', 'DEF', 'MID', 'MID', 'FWD', 'FWD'] | 📊 Avg Skill: 86.29 | 💰 Salary: 675M\n",
      "\n",
      "🏟️ League 7 | 🧬 Fitness: 0.9536\n",
      "  🏆 Team 1 | 🧍 Positions: ['GK', 'DEF', 'DEF', 'MID', 'MID', 'FWD', 'FWD'] | 📊 Avg Skill: 87.71 | 💰 Salary: 750M\n",
      "  🏆 Team 2 | 🧍 Positions: ['GK', 'DEF', 'DEF', 'MID', 'MID', 'FWD', 'FWD'] | 📊 Avg Skill: 85.86 | 💰 Salary: 680M\n",
      "  🏆 Team 3 | 🧍 Positions: ['GK', 'DEF', 'DEF', 'MID', 'MID', 'FWD', 'FWD'] | 📊 Avg Skill: 86.00 | 💰 Salary: 660M\n",
      "  🏆 Team 4 | 🧍 Positions: ['GK', 'DEF', 'DEF', 'MID', 'MID', 'FWD', 'FWD'] | 📊 Avg Skill: 87.29 | 💰 Salary: 702M\n",
      "  🏆 Team 5 | 🧍 Positions: ['GK', 'DEF', 'DEF', 'MID', 'MID', 'FWD', 'FWD'] | 📊 Avg Skill: 85.14 | 💰 Salary: 632M\n",
      "\n",
      "🏟️ League 8 | 🧬 Fitness: 0.9579\n",
      "  🏆 Team 1 | 🧍 Positions: ['GK', 'DEF', 'DEF', 'MID', 'MID', 'FWD', 'FWD'] | 📊 Avg Skill: 86.86 | 💰 Salary: 700M\n",
      "  🏆 Team 2 | 🧍 Positions: ['GK', 'DEF', 'DEF', 'MID', 'MID', 'FWD', 'FWD'] | 📊 Avg Skill: 87.57 | 💰 Salary: 712M\n",
      "  🏆 Team 3 | 🧍 Positions: ['GK', 'DEF', 'DEF', 'MID', 'MID', 'FWD', 'FWD'] | 📊 Avg Skill: 87.00 | 💰 Salary: 732M\n",
      "  🏆 Team 4 | 🧍 Positions: ['GK', 'DEF', 'DEF', 'MID', 'MID', 'FWD', 'FWD'] | 📊 Avg Skill: 85.00 | 💰 Salary: 625M\n",
      "  🏆 Team 5 | 🧍 Positions: ['GK', 'DEF', 'DEF', 'MID', 'MID', 'FWD', 'FWD'] | 📊 Avg Skill: 85.57 | 💰 Salary: 655M\n",
      "\n",
      "🏟️ League 9 | 🧬 Fitness: 1.4830\n",
      "  🏆 Team 1 | 🧍 Positions: ['GK', 'DEF', 'DEF', 'MID', 'MID', 'FWD', 'FWD'] | 📊 Avg Skill: 85.29 | 💰 Salary: 660M\n",
      "  🏆 Team 2 | 🧍 Positions: ['GK', 'DEF', 'DEF', 'MID', 'MID', 'FWD', 'FWD'] | 📊 Avg Skill: 88.29 | 💰 Salary: 745M\n",
      "  🏆 Team 3 | 🧍 Positions: ['GK', 'DEF', 'DEF', 'MID', 'MID', 'FWD', 'FWD'] | 📊 Avg Skill: 87.71 | 💰 Salary: 715M\n",
      "  🏆 Team 4 | 🧍 Positions: ['GK', 'DEF', 'DEF', 'MID', 'MID', 'FWD', 'FWD'] | 📊 Avg Skill: 86.43 | 💰 Salary: 685M\n",
      "  🏆 Team 5 | 🧍 Positions: ['GK', 'DEF', 'DEF', 'MID', 'MID', 'FWD', 'FWD'] | 📊 Avg Skill: 84.29 | 💰 Salary: 619M\n",
      "\n",
      "🏟️ League 10 | 🧬 Fitness: 1.1829\n",
      "  🏆 Team 1 | 🧍 Positions: ['GK', 'DEF', 'DEF', 'MID', 'MID', 'FWD', 'FWD'] | 📊 Avg Skill: 85.00 | 💰 Salary: 635M\n",
      "  🏆 Team 2 | 🧍 Positions: ['GK', 'DEF', 'DEF', 'MID', 'MID', 'FWD', 'FWD'] | 📊 Avg Skill: 86.86 | 💰 Salary: 710M\n",
      "  🏆 Team 3 | 🧍 Positions: ['GK', 'DEF', 'DEF', 'MID', 'MID', 'FWD', 'FWD'] | 📊 Avg Skill: 86.86 | 💰 Salary: 677M\n",
      "  🏆 Team 4 | 🧍 Positions: ['GK', 'DEF', 'DEF', 'MID', 'MID', 'FWD', 'FWD'] | 📊 Avg Skill: 88.14 | 💰 Salary: 747M\n",
      "  🏆 Team 5 | 🧍 Positions: ['GK', 'DEF', 'DEF', 'MID', 'MID', 'FWD', 'FWD'] | 📊 Avg Skill: 85.14 | 💰 Salary: 655M\n",
      "\n",
      "🏟️ League 11 | 🧬 Fitness: 0.3051\n",
      "  🏆 Team 1 | 🧍 Positions: ['GK', 'DEF', 'DEF', 'MID', 'MID', 'FWD', 'FWD'] | 📊 Avg Skill: 86.00 | 💰 Salary: 667M\n",
      "  🏆 Team 2 | 🧍 Positions: ['GK', 'DEF', 'DEF', 'MID', 'MID', 'FWD', 'FWD'] | 📊 Avg Skill: 86.43 | 💰 Salary: 700M\n",
      "  🏆 Team 3 | 🧍 Positions: ['GK', 'DEF', 'DEF', 'MID', 'MID', 'FWD', 'FWD'] | 📊 Avg Skill: 86.57 | 💰 Salary: 695M\n",
      "  🏆 Team 4 | 🧍 Positions: ['GK', 'DEF', 'DEF', 'MID', 'MID', 'FWD', 'FWD'] | 📊 Avg Skill: 86.86 | 💰 Salary: 690M\n",
      "  🏆 Team 5 | 🧍 Positions: ['GK', 'DEF', 'DEF', 'MID', 'MID', 'FWD', 'FWD'] | 📊 Avg Skill: 86.14 | 💰 Salary: 672M\n",
      "\n",
      "🏟️ League 12 | 🧬 Fitness: 1.2434\n",
      "  🏆 Team 1 | 🧍 Positions: ['GK', 'DEF', 'DEF', 'MID', 'MID', 'FWD', 'FWD'] | 📊 Avg Skill: 87.29 | 💰 Salary: 710M\n",
      "  🏆 Team 2 | 🧍 Positions: ['GK', 'DEF', 'DEF', 'MID', 'MID', 'FWD', 'FWD'] | 📊 Avg Skill: 84.86 | 💰 Salary: 624M\n",
      "  🏆 Team 3 | 🧍 Positions: ['GK', 'DEF', 'DEF', 'MID', 'MID', 'FWD', 'FWD'] | 📊 Avg Skill: 85.43 | 💰 Salary: 670M\n",
      "  🏆 Team 4 | 🧍 Positions: ['GK', 'DEF', 'DEF', 'MID', 'MID', 'FWD', 'FWD'] | 📊 Avg Skill: 86.14 | 💰 Salary: 675M\n",
      "  🏆 Team 5 | 🧍 Positions: ['GK', 'DEF', 'DEF', 'MID', 'MID', 'FWD', 'FWD'] | 📊 Avg Skill: 88.29 | 💰 Salary: 745M\n",
      "\n",
      "🏟️ League 13 | 🧬 Fitness: 0.8447\n",
      "  🏆 Team 1 | 🧍 Positions: ['GK', 'DEF', 'DEF', 'MID', 'MID', 'FWD', 'FWD'] | 📊 Avg Skill: 86.29 | 💰 Salary: 685M\n",
      "  🏆 Team 2 | 🧍 Positions: ['GK', 'DEF', 'DEF', 'MID', 'MID', 'FWD', 'FWD'] | 📊 Avg Skill: 87.00 | 💰 Salary: 710M\n",
      "  🏆 Team 3 | 🧍 Positions: ['GK', 'DEF', 'DEF', 'MID', 'MID', 'FWD', 'FWD'] | 📊 Avg Skill: 86.57 | 💰 Salary: 685M\n",
      "  🏆 Team 4 | 🧍 Positions: ['GK', 'DEF', 'DEF', 'MID', 'MID', 'FWD', 'FWD'] | 📊 Avg Skill: 84.86 | 💰 Salary: 629M\n",
      "  🏆 Team 5 | 🧍 Positions: ['GK', 'DEF', 'DEF', 'MID', 'MID', 'FWD', 'FWD'] | 📊 Avg Skill: 87.29 | 💰 Salary: 715M\n",
      "\n",
      "🏟️ League 14 | 🧬 Fitness: 1.2034\n",
      "  🏆 Team 1 | 🧍 Positions: ['GK', 'DEF', 'DEF', 'MID', 'MID', 'FWD', 'FWD'] | 📊 Avg Skill: 85.57 | 💰 Salary: 662M\n",
      "  🏆 Team 2 | 🧍 Positions: ['GK', 'DEF', 'DEF', 'MID', 'MID', 'FWD', 'FWD'] | 📊 Avg Skill: 87.14 | 💰 Salary: 725M\n",
      "  🏆 Team 3 | 🧍 Positions: ['GK', 'DEF', 'DEF', 'MID', 'MID', 'FWD', 'FWD'] | 📊 Avg Skill: 85.43 | 💰 Salary: 645M\n",
      "  🏆 Team 4 | 🧍 Positions: ['GK', 'DEF', 'DEF', 'MID', 'MID', 'FWD', 'FWD'] | 📊 Avg Skill: 85.43 | 💰 Salary: 657M\n",
      "  🏆 Team 5 | 🧍 Positions: ['GK', 'DEF', 'DEF', 'MID', 'MID', 'FWD', 'FWD'] | 📊 Avg Skill: 88.43 | 💰 Salary: 735M\n",
      "\n",
      "🏟️ League 15 | 🧬 Fitness: 0.8101\n",
      "  🏆 Team 1 | 🧍 Positions: ['GK', 'DEF', 'DEF', 'MID', 'MID', 'FWD', 'FWD'] | 📊 Avg Skill: 87.29 | 💰 Salary: 692M\n",
      "  🏆 Team 2 | 🧍 Positions: ['GK', 'DEF', 'DEF', 'MID', 'MID', 'FWD', 'FWD'] | 📊 Avg Skill: 86.86 | 💰 Salary: 700M\n",
      "  🏆 Team 3 | 🧍 Positions: ['GK', 'DEF', 'DEF', 'MID', 'MID', 'FWD', 'FWD'] | 📊 Avg Skill: 85.57 | 💰 Salary: 667M\n",
      "  🏆 Team 4 | 🧍 Positions: ['GK', 'DEF', 'DEF', 'MID', 'MID', 'FWD', 'FWD'] | 📊 Avg Skill: 87.00 | 💰 Salary: 715M\n",
      "  🏆 Team 5 | 🧍 Positions: ['GK', 'DEF', 'DEF', 'MID', 'MID', 'FWD', 'FWD'] | 📊 Avg Skill: 85.29 | 💰 Salary: 650M\n",
      "\n",
      "🏟️ League 16 | 🧬 Fitness: 1.1080\n",
      "  🏆 Team 1 | 🧍 Positions: ['GK', 'DEF', 'DEF', 'MID', 'MID', 'FWD', 'FWD'] | 📊 Avg Skill: 87.71 | 💰 Salary: 725M\n",
      "  🏆 Team 2 | 🧍 Positions: ['GK', 'DEF', 'DEF', 'MID', 'MID', 'FWD', 'FWD'] | 📊 Avg Skill: 86.71 | 💰 Salary: 720M\n",
      "  🏆 Team 3 | 🧍 Positions: ['GK', 'DEF', 'DEF', 'MID', 'MID', 'FWD', 'FWD'] | 📊 Avg Skill: 84.71 | 💰 Salary: 627M\n",
      "  🏆 Team 4 | 🧍 Positions: ['GK', 'DEF', 'DEF', 'MID', 'MID', 'FWD', 'FWD'] | 📊 Avg Skill: 85.57 | 💰 Salary: 642M\n",
      "  🏆 Team 5 | 🧍 Positions: ['GK', 'DEF', 'DEF', 'MID', 'MID', 'FWD', 'FWD'] | 📊 Avg Skill: 87.29 | 💰 Salary: 710M\n",
      "\n",
      "🏟️ League 17 | 🧬 Fitness: 0.6725\n",
      "  🏆 Team 1 | 🧍 Positions: ['GK', 'DEF', 'DEF', 'MID', 'MID', 'FWD', 'FWD'] | 📊 Avg Skill: 87.71 | 💰 Salary: 735M\n",
      "  🏆 Team 2 | 🧍 Positions: ['GK', 'DEF', 'DEF', 'MID', 'MID', 'FWD', 'FWD'] | 📊 Avg Skill: 86.00 | 💰 Salary: 665M\n",
      "  🏆 Team 3 | 🧍 Positions: ['GK', 'DEF', 'DEF', 'MID', 'MID', 'FWD', 'FWD'] | 📊 Avg Skill: 86.29 | 💰 Salary: 667M\n",
      "  🏆 Team 4 | 🧍 Positions: ['GK', 'DEF', 'DEF', 'MID', 'MID', 'FWD', 'FWD'] | 📊 Avg Skill: 85.86 | 💰 Salary: 670M\n",
      "  🏆 Team 5 | 🧍 Positions: ['GK', 'DEF', 'DEF', 'MID', 'MID', 'FWD', 'FWD'] | 📊 Avg Skill: 86.14 | 💰 Salary: 687M\n",
      "\n",
      "🏟️ League 18 | 🧬 Fitness: 0.7897\n",
      "  🏆 Team 1 | 🧍 Positions: ['GK', 'DEF', 'DEF', 'MID', 'MID', 'FWD', 'FWD'] | 📊 Avg Skill: 87.29 | 💰 Salary: 705M\n",
      "  🏆 Team 2 | 🧍 Positions: ['GK', 'DEF', 'DEF', 'MID', 'MID', 'FWD', 'FWD'] | 📊 Avg Skill: 85.86 | 💰 Salary: 672M\n",
      "  🏆 Team 3 | 🧍 Positions: ['GK', 'DEF', 'DEF', 'MID', 'MID', 'FWD', 'FWD'] | 📊 Avg Skill: 85.86 | 💰 Salary: 667M\n",
      "  🏆 Team 4 | 🧍 Positions: ['GK', 'DEF', 'DEF', 'MID', 'MID', 'FWD', 'FWD'] | 📊 Avg Skill: 85.57 | 💰 Salary: 645M\n",
      "  🏆 Team 5 | 🧍 Positions: ['GK', 'DEF', 'DEF', 'MID', 'MID', 'FWD', 'FWD'] | 📊 Avg Skill: 87.43 | 💰 Salary: 735M\n",
      "\n",
      "🏟️ League 19 | 🧬 Fitness: 0.4729\n",
      "  🏆 Team 1 | 🧍 Positions: ['GK', 'DEF', 'DEF', 'MID', 'MID', 'FWD', 'FWD'] | 📊 Avg Skill: 86.14 | 💰 Salary: 662M\n",
      "  🏆 Team 2 | 🧍 Positions: ['GK', 'DEF', 'DEF', 'MID', 'MID', 'FWD', 'FWD'] | 📊 Avg Skill: 86.29 | 💰 Salary: 690M\n",
      "  🏆 Team 3 | 🧍 Positions: ['GK', 'DEF', 'DEF', 'MID', 'MID', 'FWD', 'FWD'] | 📊 Avg Skill: 86.86 | 💰 Salary: 695M\n",
      "  🏆 Team 4 | 🧍 Positions: ['GK', 'DEF', 'DEF', 'MID', 'MID', 'FWD', 'FWD'] | 📊 Avg Skill: 87.00 | 💰 Salary: 715M\n",
      "  🏆 Team 5 | 🧍 Positions: ['GK', 'DEF', 'DEF', 'MID', 'MID', 'FWD', 'FWD'] | 📊 Avg Skill: 85.71 | 💰 Salary: 662M\n",
      "\n",
      "🏟️ League 20 | 🧬 Fitness: 1.5423\n",
      "  🏆 Team 1 | 🧍 Positions: ['GK', 'DEF', 'DEF', 'MID', 'MID', 'FWD', 'FWD'] | 📊 Avg Skill: 86.71 | 💰 Salary: 700M\n",
      "  🏆 Team 2 | 🧍 Positions: ['GK', 'DEF', 'DEF', 'MID', 'MID', 'FWD', 'FWD'] | 📊 Avg Skill: 85.71 | 💰 Salary: 680M\n",
      "  🏆 Team 3 | 🧍 Positions: ['GK', 'DEF', 'DEF', 'MID', 'MID', 'FWD', 'FWD'] | 📊 Avg Skill: 86.86 | 💰 Salary: 682M\n",
      "  🏆 Team 4 | 🧍 Positions: ['GK', 'DEF', 'DEF', 'MID', 'MID', 'FWD', 'FWD'] | 📊 Avg Skill: 88.71 | 💰 Salary: 745M\n",
      "  🏆 Team 5 | 🧍 Positions: ['GK', 'DEF', 'DEF', 'MID', 'MID', 'FWD', 'FWD'] | 📊 Avg Skill: 84.00 | 💰 Salary: 617M\n"
     ]
    }
   ],
   "source": [
    "# PRINT ENTIRE POPULATION\n",
    "def print_population(population):\n",
    "    for i, indiv in enumerate(population):\n",
    "        print(f\"\\n🏟️ League {i+1} | 🧬 Fitness: {indiv.fitness:.4f}\")\n",
    "        all_names = set()\n",
    "        for j, team in enumerate(indiv.league):\n",
    "            names = [p.name for p in team.players]\n",
    "            positions = [p.position for p in team.players]\n",
    "            skill = team.avg_skill()\n",
    "            salary = team.total_salary()\n",
    "            print(f\"  🏆 Team {j+1} | 🧍 Positions: {positions} | 📊 Avg Skill: {skill:.2f} | 💰 Salary: {salary}M\")\n",
    "\n",
    "            # Optional: check for duplicate players within individual\n",
    "            duplicates = set(names).intersection(all_names)\n",
    "            if duplicates:\n",
    "                print(f\"    ⚠️ Duplicate Players: {duplicates}\")\n",
    "            all_names.update(names)\n",
    "\n",
    "# Example usage:\n",
    "print_population(population)"
   ]
  },
  {
   "cell_type": "markdown",
   "id": "ab0c5571",
   "metadata": {},
   "source": [
    "# Mutations"
   ]
  },
  {
   "cell_type": "markdown",
   "id": "8e8bbc70",
   "metadata": {},
   "source": [
    "## #1 Swap Players Betweeen Teams"
   ]
  },
  {
   "cell_type": "code",
   "execution_count": 7,
   "id": "5ba323e1",
   "metadata": {},
   "outputs": [],
   "source": [
    "individual = random.choice(population)"
   ]
  },
  {
   "cell_type": "code",
   "execution_count": 8,
   "id": "55653ea8",
   "metadata": {},
   "outputs": [
    {
     "name": "stdout",
     "output_type": "stream",
     "text": [
      "<LeagueIndividual fitness=1.2302>\n"
     ]
    }
   ],
   "source": [
    "print(individual)"
   ]
  },
  {
   "cell_type": "code",
   "execution_count": 9,
   "id": "649833b2",
   "metadata": {},
   "outputs": [
    {
     "name": "stdout",
     "output_type": "stream",
     "text": [
      "<LeagueIndividual fitness=0.7793>\n"
     ]
    }
   ],
   "source": [
    "swap_players = mutation_swap_players(individual)\n",
    "print(swap_players)"
   ]
  },
  {
   "cell_type": "code",
   "execution_count": 10,
   "id": "f94dad64",
   "metadata": {},
   "outputs": [
    {
     "name": "stdout",
     "output_type": "stream",
     "text": [
      "✅ Mutation applied successfully.\n"
     ]
    }
   ],
   "source": [
    "if swap_players == individual:\n",
    "    print(\"⚠️  No mutation applied (swap failed after multiple attempts).\")\n",
    "else:\n",
    "    print(\"✅ Mutation applied successfully.\")"
   ]
  },
  {
   "cell_type": "markdown",
   "id": "e65e376c",
   "metadata": {},
   "source": [
    "### Testing code mutation_swap_players"
   ]
  },
  {
   "cell_type": "code",
   "execution_count": 11,
   "id": "19d921e9",
   "metadata": {},
   "outputs": [
    {
     "name": "stdout",
     "output_type": "stream",
     "text": [
      "\n",
      "==================================================\n",
      "🏟️  Original League (Fitness: 1.2302)\n",
      "==================================================\n",
      "\n",
      "🏆 Team 1\n",
      "  - GK: Blake Henderson | Skill: 87 | Salary: €95M\n",
      "  - DEF: Owen Parker | Skill: 88 | Salary: €100M\n",
      "  - DEF: Caleb Fisher | Skill: 84 | Salary: €85M\n",
      "  - MID: Bentley Rivera | Skill: 88 | Salary: €100M\n",
      "  - MID: Austin Torres | Skill: 82 | Salary: €80M\n",
      "  - FWD: Julian Scott | Skill: 92 | Salary: €130M\n",
      "  - FWD: Zachary Nelson | Skill: 86 | Salary: €92M\n",
      "    📊 Avg Skill: 86.71 | 💰 Total Salary: €682M\n",
      "\n",
      "🏆 Team 2\n",
      "  - GK: Alex Carter | Skill: 85 | Salary: €90M\n",
      "  - DEF: Lucas Bennett | Skill: 85 | Salary: €90M\n",
      "  - DEF: Mason Reed | Skill: 82 | Salary: €75M\n",
      "  - MID: Gavin Richardson | Skill: 87 | Salary: €95M\n",
      "  - MID: Dominic Bell | Skill: 86 | Salary: €95M\n",
      "  - FWD: Xavier Bryant | Skill: 90 | Salary: €120M\n",
      "  - FWD: Landon Powell | Skill: 89 | Salary: €110M\n",
      "    📊 Avg Skill: 86.29 | 💰 Total Salary: €675M\n",
      "\n",
      "🏆 Team 3\n",
      "  - GK: Jordan Smith | Skill: 88 | Salary: €100M\n",
      "  - DEF: Logan Brooks | Skill: 86 | Salary: €95M\n",
      "  - DEF: Daniel Foster | Skill: 90 | Salary: €110M\n",
      "  - MID: Hunter Cooper | Skill: 83 | Salary: €85M\n",
      "  - MID: Ashton Phillips | Skill: 90 | Salary: €110M\n",
      "  - FWD: Chase Murphy | Skill: 86 | Salary: €95M\n",
      "  - FWD: Sebastian Perry | Skill: 95 | Salary: €150M\n",
      "    📊 Avg Skill: 88.29 | 💰 Total Salary: €745M\n",
      "\n",
      "🏆 Team 4\n",
      "  - GK: Chris Thompson | Skill: 80 | Salary: €80M\n",
      "  - DEF: Brayden Hughes | Skill: 87 | Salary: €100M\n",
      "  - DEF: Ethan Howard | Skill: 80 | Salary: €70M\n",
      "  - MID: Connor Hayes | Skill: 89 | Salary: €105M\n",
      "  - MID: Spencer Ward | Skill: 84 | Salary: €85M\n",
      "  - FWD: Tyler Jenkins | Skill: 80 | Salary: €70M\n",
      "  - FWD: Colton Gray | Skill: 91 | Salary: €125M\n",
      "    📊 Avg Skill: 84.43 | 💰 Total Salary: €635M\n",
      "\n",
      "🏆 Team 5\n",
      "  - GK: Ryan Mitchell | Skill: 83 | Salary: €85M\n",
      "  - DEF: Jaxon Griffin | Skill: 79 | Salary: €65M\n",
      "  - DEF: Maxwell Flores | Skill: 81 | Salary: €72M\n",
      "  - MID: Nathan Wright | Skill: 92 | Salary: €120M\n",
      "  - MID: Dylan Morgan | Skill: 91 | Salary: €115M\n",
      "  - FWD: Elijah Sanders | Skill: 93 | Salary: €140M\n",
      "  - FWD: Adrian Collins | Skill: 85 | Salary: €90M\n",
      "    📊 Avg Skill: 86.29 | 💰 Total Salary: €687M\n",
      "\n",
      "✅ Valid League: True\n",
      "\n",
      "==================================================\n",
      "🏟️  Mutated League (Fitness: 0.5376)\n",
      "==================================================\n",
      "\n",
      "🏆 Team 1\n",
      "  - GK: Chris Thompson | Skill: 80 | Salary: €80M\n",
      "  - DEF: Owen Parker | Skill: 88 | Salary: €100M\n",
      "  - DEF: Caleb Fisher | Skill: 84 | Salary: €85M\n",
      "  - MID: Bentley Rivera | Skill: 88 | Salary: €100M\n",
      "  - MID: Dominic Bell | Skill: 86 | Salary: €95M\n",
      "  - FWD: Julian Scott | Skill: 92 | Salary: €130M\n",
      "  - FWD: Zachary Nelson | Skill: 86 | Salary: €92M\n",
      "    📊 Avg Skill: 86.29 | 💰 Total Salary: €682M\n",
      "\n",
      "🏆 Team 2\n",
      "  - GK: Alex Carter | Skill: 85 | Salary: €90M\n",
      "  - DEF: Lucas Bennett | Skill: 85 | Salary: €90M\n",
      "  - DEF: Mason Reed | Skill: 82 | Salary: €75M\n",
      "  - MID: Gavin Richardson | Skill: 87 | Salary: €95M\n",
      "  - MID: Hunter Cooper | Skill: 83 | Salary: €85M\n",
      "  - FWD: Xavier Bryant | Skill: 90 | Salary: €120M\n",
      "  - FWD: Sebastian Perry | Skill: 95 | Salary: €150M\n",
      "    📊 Avg Skill: 86.71 | 💰 Total Salary: €705M\n",
      "\n",
      "🏆 Team 3\n",
      "  - GK: Ryan Mitchell | Skill: 83 | Salary: €85M\n",
      "  - DEF: Logan Brooks | Skill: 86 | Salary: €95M\n",
      "  - DEF: Daniel Foster | Skill: 90 | Salary: €110M\n",
      "  - MID: Austin Torres | Skill: 82 | Salary: €80M\n",
      "  - MID: Ashton Phillips | Skill: 90 | Salary: €110M\n",
      "  - FWD: Chase Murphy | Skill: 86 | Salary: €95M\n",
      "  - FWD: Landon Powell | Skill: 89 | Salary: €110M\n",
      "    📊 Avg Skill: 86.57 | 💰 Total Salary: €685M\n",
      "\n",
      "🏆 Team 4\n",
      "  - GK: Blake Henderson | Skill: 87 | Salary: €95M\n",
      "  - DEF: Brayden Hughes | Skill: 87 | Salary: €100M\n",
      "  - DEF: Ethan Howard | Skill: 80 | Salary: €70M\n",
      "  - MID: Connor Hayes | Skill: 89 | Salary: €105M\n",
      "  - MID: Spencer Ward | Skill: 84 | Salary: €85M\n",
      "  - FWD: Tyler Jenkins | Skill: 80 | Salary: €70M\n",
      "  - FWD: Colton Gray | Skill: 91 | Salary: €125M\n",
      "    📊 Avg Skill: 85.43 | 💰 Total Salary: €650M\n",
      "\n",
      "🏆 Team 5\n",
      "  - GK: Jordan Smith | Skill: 88 | Salary: €100M\n",
      "  - DEF: Jaxon Griffin | Skill: 79 | Salary: €65M\n",
      "  - DEF: Maxwell Flores | Skill: 81 | Salary: €72M\n",
      "  - MID: Nathan Wright | Skill: 92 | Salary: €120M\n",
      "  - MID: Dylan Morgan | Skill: 91 | Salary: €115M\n",
      "  - FWD: Elijah Sanders | Skill: 93 | Salary: €140M\n",
      "  - FWD: Adrian Collins | Skill: 85 | Salary: €90M\n",
      "    📊 Avg Skill: 87.00 | 💰 Total Salary: €702M\n",
      "\n",
      "✅ Valid League: True\n"
     ]
    },
    {
     "data": {
      "text/plain": [
       "True"
      ]
     },
     "execution_count": 11,
     "metadata": {},
     "output_type": "execute_result"
    }
   ],
   "source": [
    "# test mutation_swap_players\n",
    " \n",
    "def print_league_details(league_indiv, label=\"\"):\n",
    "    print(f\"\\n{'='*50}\\n🏟️  {label} (Fitness: {league_indiv.fitness:.4f})\\n{'='*50}\")\n",
    "    \n",
    "    all_players = set()\n",
    "    valid = True\n",
    "\n",
    "    for i, team in enumerate(league_indiv.league):\n",
    "        print(f\"\\n🏆 Team {i+1}\")\n",
    "        for player in team.players:\n",
    "            print(f\"  - {player}\")\n",
    "        avg = team.avg_skill()\n",
    "        total_salary = team.total_salary()\n",
    "        print(f\"    📊 Avg Skill: {avg:.2f} | 💰 Total Salary: €{total_salary}M\")\n",
    "        \n",
    "        all_players.update(player.name for player in team.players)\n",
    "\n",
    "        if not team.is_valid(league_indiv.team_structure, league_indiv.budget_limit):\n",
    "            print(\"    ❌ Invalid team (structure or budget)\")\n",
    "            valid = False\n",
    "\n",
    "    expected_total = sum(league_indiv.team_structure.values()) * len(league_indiv.league)\n",
    "    if len(all_players) != expected_total:\n",
    "        print(\"⚠️  Duplicate players found across teams!\")\n",
    "        valid = False\n",
    "\n",
    "    print(f\"\\n✅ Valid League: {valid}\")\n",
    "    return valid\n",
    "\n",
    "\n",
    "mutated = mutation_swap_players(individual)\n",
    "\n",
    "# # === PRINT RESULTS ===\n",
    "print_league_details(individual, \"Original League\")\n",
    "print_league_details(mutated, \"Mutated League\")"
   ]
  },
  {
   "cell_type": "markdown",
   "id": "fd68da2e",
   "metadata": {},
   "source": [
    "## #2 Regenerate a Team Entirely"
   ]
  },
  {
   "cell_type": "code",
   "execution_count": 12,
   "id": "bc64ef1e",
   "metadata": {},
   "outputs": [
    {
     "name": "stdout",
     "output_type": "stream",
     "text": [
      "<LeagueIndividual fitness=1.0668>\n"
     ]
    }
   ],
   "source": [
    "regenerate_team = mutation_regenerate_team(individual)\n",
    "print(regenerate_team)"
   ]
  },
  {
   "cell_type": "code",
   "execution_count": 13,
   "id": "913df7c8",
   "metadata": {},
   "outputs": [
    {
     "name": "stdout",
     "output_type": "stream",
     "text": [
      "✅ Mutation applied successfully.\n"
     ]
    }
   ],
   "source": [
    "if regenerate_team == individual:\n",
    "    print(\"⚠️  No mutation applied (regenerate team failed).\")\n",
    "else:\n",
    "    print(\"✅ Mutation applied successfully.\")"
   ]
  },
  {
   "cell_type": "markdown",
   "id": "d4ee2fa4",
   "metadata": {},
   "source": [
    "### Testing code mutation_regenerate_team"
   ]
  },
  {
   "cell_type": "code",
   "execution_count": 14,
   "id": "677212ca",
   "metadata": {},
   "outputs": [],
   "source": [
    "def print_player_diff(orig_players, new_players):\n",
    "    orig_names = set(p.name for p in orig_players)\n",
    "    new_names = set(p.name for p in new_players)\n",
    "    added = new_names - orig_names\n",
    "    removed = orig_names - new_names\n",
    "    return added, removed\n",
    "\n",
    "def print_detailed_comparison(original, mutated):\n",
    "    print(f\"\\n{'='*60}\")\n",
    "    print(f\"🏟️  Regenerate Team Mutation Comparison\")\n",
    "    print(f\"📈 Fitness: {original.fitness:.4f} → {mutated.fitness:.4f}\")\n",
    "    print(f\"{'='*60}\\n\")\n",
    "\n",
    "    # === First Pass: Determine the regenerated team ===\n",
    "    max_changes = 0\n",
    "    regenerated_team_index = None\n",
    "    for i, (team_orig, team_mut) in enumerate(zip(original.league, mutated.league)):\n",
    "        orig_names = set(p.name for p in team_orig.players)\n",
    "        new_names = set(p.name for p in team_mut.players)\n",
    "        changes = len(orig_names.symmetric_difference(new_names))\n",
    "        if changes > max_changes:\n",
    "            max_changes = changes\n",
    "            regenerated_team_index = i\n",
    "\n",
    "    # === Second Pass: Print teams ===\n",
    "    for i, (team_orig, team_mut) in enumerate(zip(original.league, mutated.league)):\n",
    "        team_label = f\"🏆 Team {i+1}\"\n",
    "        if i == regenerated_team_index:\n",
    "            team_label += \" 🆕\"\n",
    "        print(f\"\\n{team_label}\")\n",
    "        print(f\"Original Team:\")\n",
    "        for p in team_orig.players:\n",
    "            print(f\"  - {p}\")\n",
    "        print(f\"    📊 Avg Skill: {team_orig.avg_skill():.2f} | 💰 Salary: €{team_orig.total_salary()}M\")\n",
    "\n",
    "        print(f\"Mutated Team:\")\n",
    "        for p in team_mut.players:\n",
    "            print(f\"  - {p}\")\n",
    "        print(f\"    📊 Avg Skill: {team_mut.avg_skill():.2f} | 💰 Salary: €{team_mut.total_salary()}M\")\n",
    "\n",
    "        added, removed = print_player_diff(team_orig.players, team_mut.players)\n",
    "        if added or removed:\n",
    "            print(f\"    ➕ Added: {', '.join(added) if added else 'None'}\")\n",
    "            print(f\"    ➖ Removed: {', '.join(removed) if removed else 'None'}\")\n",
    "\n",
    "    print(f\"\\n✅ League Valid: {all(team.is_valid(mutated.team_structure, mutated.budget_limit) for team in mutated.league)}\")\n",
    "    print(f\"📌 Regenerated Team: Team {regenerated_team_index + 1 if regenerated_team_index is not None else 'Unknown'}\")\n",
    "\n",
    "# Example usage:\n",
    "mutated = mutation_regenerate_team(individual)"
   ]
  },
  {
   "cell_type": "markdown",
   "id": "21d9139b",
   "metadata": {},
   "source": [
    "## #3 Balance Teams Average Skill (std dev)"
   ]
  },
  {
   "cell_type": "code",
   "execution_count": 15,
   "id": "537f5439",
   "metadata": {},
   "outputs": [
    {
     "name": "stdout",
     "output_type": "stream",
     "text": [
      "<LeagueIndividual fitness=0.3546>\n"
     ]
    }
   ],
   "source": [
    "third_mutation = mutation_balance_teams(individual)\n",
    "print(third_mutation)"
   ]
  },
  {
   "cell_type": "code",
   "execution_count": 16,
   "id": "92c3d2f7",
   "metadata": {},
   "outputs": [
    {
     "name": "stdout",
     "output_type": "stream",
     "text": [
      "✅ Mutation applied successfully.\n"
     ]
    }
   ],
   "source": [
    "if third_mutation == individual:\n",
    "    print(\"⚠️  No mutation applied (swap failed after multiple attempts).\")\n",
    "else:\n",
    "    print(\"✅ Mutation applied successfully.\")"
   ]
  },
  {
   "cell_type": "markdown",
   "id": "d0b1fce9",
   "metadata": {},
   "source": [
    "### Testing code mutation_balance_teams"
   ]
  },
  {
   "cell_type": "code",
   "execution_count": 17,
   "id": "3ab8ea27",
   "metadata": {},
   "outputs": [],
   "source": [
    "def print_player_diff(orig_players, new_players):\n",
    "    orig_names = set(p.name for p in orig_players)\n",
    "    new_names = set(p.name for p in new_players)\n",
    "    added = new_names - orig_names\n",
    "    removed = orig_names - new_names\n",
    "    return added, removed\n",
    "\n",
    "def print_detailed_comparison(original, mutated):\n",
    "    print(f\"\\n{'='*60}\")\n",
    "    print(f\"🏟️  Mutation Comparison\")\n",
    "    print(f\"📈 Fitness: {original.fitness:.4f} → {mutated.fitness:.4f}\")\n",
    "    print(f\"{'='*60}\\n\")\n",
    "\n",
    "    # Identify most-changed team\n",
    "    max_changes = 0\n",
    "    regenerated_team_index = None\n",
    "    for i, (t1, t2) in enumerate(zip(original.league, mutated.league)):\n",
    "        orig_names = set(p.name for p in t1.players)\n",
    "        new_names = set(p.name for p in t2.players)\n",
    "        changes = len(orig_names.symmetric_difference(new_names))\n",
    "        if changes > max_changes:\n",
    "            max_changes = changes\n",
    "            regenerated_team_index = i\n",
    "\n",
    "    # Print comparison\n",
    "    for i, (t1, t2) in enumerate(zip(original.league, mutated.league)):\n",
    "        team_label = f\"🏆 Team {i+1}\" + (\" 🆕\" if i == regenerated_team_index else \"\")\n",
    "        print(f\"\\n{team_label}\")\n",
    "        print(\"Original Team:\")\n",
    "        for p in t1.players:\n",
    "            print(f\"  - {p}\")\n",
    "        print(f\"    📊 Avg Skill: {t1.avg_skill():.2f} | 💰 Salary: €{t1.total_salary()}M\")\n",
    "\n",
    "        print(\"Mutated Team:\")\n",
    "        for p in t2.players:\n",
    "            print(f\"  - {p}\")\n",
    "        print(f\"    📊 Avg Skill: {t2.avg_skill():.2f} | 💰 Salary: €{t2.total_salary()}M\")\n",
    "\n",
    "        added, removed = print_player_diff(t1.players, t2.players)\n",
    "        if added or removed:\n",
    "            print(f\"    ➕ Added: {', '.join(added) if added else 'None'}\")\n",
    "            print(f\"    ➖ Removed: {', '.join(removed) if removed else 'None'}\")\n",
    "\n",
    "    print(f\"\\n✅ League Valid: {all(t.is_valid(mutated.team_structure, mutated.budget_limit) for t in mutated.league)}\")\n",
    "    print(f\"📌 Most changed team: Team {regenerated_team_index + 1 if regenerated_team_index is not None else 'Unknown'}\")"
   ]
  },
  {
   "cell_type": "code",
   "execution_count": 18,
   "id": "7aeda7e4",
   "metadata": {},
   "outputs": [],
   "source": [
    "def test_mutation_balance_teams():\n",
    "\n",
    "    print(\"\\n=== Testing: mutation_balance_teams ===\")\n",
    "\n",
    "    # Generate a sample individual\n",
    "    mutated = mutation_balance_teams(individual)\n",
    "\n",
    "    # Compare fitness\n",
    "    print(f\"\\n📈 Original Fitness: {individual.fitness:.4f}\")\n",
    "    print(f\"📉 Mutated Fitness:  {mutated.fitness:.4f}\")\n",
    "\n",
    "    # Identify changed teams\n",
    "    changed_teams = []\n",
    "    for i, (t1, t2) in enumerate(zip(individual.league, mutated.league)):\n",
    "        if set(p.name for p in t1.players) != set(p.name for p in t2.players):\n",
    "            changed_teams.append(i + 1)\n",
    "\n",
    "    if mutated.fitness < individual.fitness:\n",
    "        print(\"\\n✅ Mutation successful! Fitness improved.\")\n",
    "    else:\n",
    "        print(\"\\n⚠️ No mutation applied. Fitness unchanged.\")\n",
    "\n",
    "    print(f\"\\n🔁 Changed team(s): {changed_teams if changed_teams else 'None'}\")\n",
    "\n",
    "    # Optionally, print detailed comparison\n",
    "    print_detailed_comparison(individual, mutated)"
   ]
  },
  {
   "cell_type": "code",
   "execution_count": 19,
   "id": "caa873c1",
   "metadata": {},
   "outputs": [
    {
     "name": "stdout",
     "output_type": "stream",
     "text": [
      "\n",
      "=== Testing: mutation_balance_teams ===\n",
      "\n",
      "📈 Original Fitness: 1.2302\n",
      "📉 Mutated Fitness:  0.5222\n",
      "\n",
      "✅ Mutation successful! Fitness improved.\n",
      "\n",
      "🔁 Changed team(s): [3, 4]\n",
      "\n",
      "============================================================\n",
      "🏟️  Mutation Comparison\n",
      "📈 Fitness: 1.2302 → 0.5222\n",
      "============================================================\n",
      "\n",
      "\n",
      "🏆 Team 1\n",
      "Original Team:\n",
      "  - GK: Blake Henderson | Skill: 87 | Salary: €95M\n",
      "  - DEF: Owen Parker | Skill: 88 | Salary: €100M\n",
      "  - DEF: Caleb Fisher | Skill: 84 | Salary: €85M\n",
      "  - MID: Bentley Rivera | Skill: 88 | Salary: €100M\n",
      "  - MID: Austin Torres | Skill: 82 | Salary: €80M\n",
      "  - FWD: Julian Scott | Skill: 92 | Salary: €130M\n",
      "  - FWD: Zachary Nelson | Skill: 86 | Salary: €92M\n",
      "    📊 Avg Skill: 86.71 | 💰 Salary: €682M\n",
      "Mutated Team:\n",
      "  - GK: Blake Henderson | Skill: 87 | Salary: €95M\n",
      "  - DEF: Owen Parker | Skill: 88 | Salary: €100M\n",
      "  - DEF: Caleb Fisher | Skill: 84 | Salary: €85M\n",
      "  - MID: Bentley Rivera | Skill: 88 | Salary: €100M\n",
      "  - MID: Austin Torres | Skill: 82 | Salary: €80M\n",
      "  - FWD: Julian Scott | Skill: 92 | Salary: €130M\n",
      "  - FWD: Zachary Nelson | Skill: 86 | Salary: €92M\n",
      "    📊 Avg Skill: 86.71 | 💰 Salary: €682M\n",
      "\n",
      "🏆 Team 2\n",
      "Original Team:\n",
      "  - GK: Alex Carter | Skill: 85 | Salary: €90M\n",
      "  - DEF: Lucas Bennett | Skill: 85 | Salary: €90M\n",
      "  - DEF: Mason Reed | Skill: 82 | Salary: €75M\n",
      "  - MID: Gavin Richardson | Skill: 87 | Salary: €95M\n",
      "  - MID: Dominic Bell | Skill: 86 | Salary: €95M\n",
      "  - FWD: Xavier Bryant | Skill: 90 | Salary: €120M\n",
      "  - FWD: Landon Powell | Skill: 89 | Salary: €110M\n",
      "    📊 Avg Skill: 86.29 | 💰 Salary: €675M\n",
      "Mutated Team:\n",
      "  - GK: Alex Carter | Skill: 85 | Salary: €90M\n",
      "  - DEF: Lucas Bennett | Skill: 85 | Salary: €90M\n",
      "  - DEF: Mason Reed | Skill: 82 | Salary: €75M\n",
      "  - MID: Gavin Richardson | Skill: 87 | Salary: €95M\n",
      "  - MID: Dominic Bell | Skill: 86 | Salary: €95M\n",
      "  - FWD: Xavier Bryant | Skill: 90 | Salary: €120M\n",
      "  - FWD: Landon Powell | Skill: 89 | Salary: €110M\n",
      "    📊 Avg Skill: 86.29 | 💰 Salary: €675M\n",
      "\n",
      "🏆 Team 3 🆕\n",
      "Original Team:\n",
      "  - GK: Jordan Smith | Skill: 88 | Salary: €100M\n",
      "  - DEF: Logan Brooks | Skill: 86 | Salary: €95M\n",
      "  - DEF: Daniel Foster | Skill: 90 | Salary: €110M\n",
      "  - MID: Hunter Cooper | Skill: 83 | Salary: €85M\n",
      "  - MID: Ashton Phillips | Skill: 90 | Salary: €110M\n",
      "  - FWD: Chase Murphy | Skill: 86 | Salary: €95M\n",
      "  - FWD: Sebastian Perry | Skill: 95 | Salary: €150M\n",
      "    📊 Avg Skill: 88.29 | 💰 Salary: €745M\n",
      "Mutated Team:\n",
      "  - GK: Chris Thompson | Skill: 80 | Salary: €80M\n",
      "  - DEF: Logan Brooks | Skill: 86 | Salary: €95M\n",
      "  - DEF: Daniel Foster | Skill: 90 | Salary: €110M\n",
      "  - MID: Hunter Cooper | Skill: 83 | Salary: €85M\n",
      "  - MID: Ashton Phillips | Skill: 90 | Salary: €110M\n",
      "  - FWD: Chase Murphy | Skill: 86 | Salary: €95M\n",
      "  - FWD: Sebastian Perry | Skill: 95 | Salary: €150M\n",
      "    📊 Avg Skill: 87.14 | 💰 Salary: €725M\n",
      "    ➕ Added: Chris Thompson\n",
      "    ➖ Removed: Jordan Smith\n",
      "\n",
      "🏆 Team 4\n",
      "Original Team:\n",
      "  - GK: Chris Thompson | Skill: 80 | Salary: €80M\n",
      "  - DEF: Brayden Hughes | Skill: 87 | Salary: €100M\n",
      "  - DEF: Ethan Howard | Skill: 80 | Salary: €70M\n",
      "  - MID: Connor Hayes | Skill: 89 | Salary: €105M\n",
      "  - MID: Spencer Ward | Skill: 84 | Salary: €85M\n",
      "  - FWD: Tyler Jenkins | Skill: 80 | Salary: €70M\n",
      "  - FWD: Colton Gray | Skill: 91 | Salary: €125M\n",
      "    📊 Avg Skill: 84.43 | 💰 Salary: €635M\n",
      "Mutated Team:\n",
      "  - GK: Jordan Smith | Skill: 88 | Salary: €100M\n",
      "  - DEF: Brayden Hughes | Skill: 87 | Salary: €100M\n",
      "  - DEF: Ethan Howard | Skill: 80 | Salary: €70M\n",
      "  - MID: Connor Hayes | Skill: 89 | Salary: €105M\n",
      "  - MID: Spencer Ward | Skill: 84 | Salary: €85M\n",
      "  - FWD: Tyler Jenkins | Skill: 80 | Salary: €70M\n",
      "  - FWD: Colton Gray | Skill: 91 | Salary: €125M\n",
      "    📊 Avg Skill: 85.57 | 💰 Salary: €655M\n",
      "    ➕ Added: Jordan Smith\n",
      "    ➖ Removed: Chris Thompson\n",
      "\n",
      "🏆 Team 5\n",
      "Original Team:\n",
      "  - GK: Ryan Mitchell | Skill: 83 | Salary: €85M\n",
      "  - DEF: Jaxon Griffin | Skill: 79 | Salary: €65M\n",
      "  - DEF: Maxwell Flores | Skill: 81 | Salary: €72M\n",
      "  - MID: Nathan Wright | Skill: 92 | Salary: €120M\n",
      "  - MID: Dylan Morgan | Skill: 91 | Salary: €115M\n",
      "  - FWD: Elijah Sanders | Skill: 93 | Salary: €140M\n",
      "  - FWD: Adrian Collins | Skill: 85 | Salary: €90M\n",
      "    📊 Avg Skill: 86.29 | 💰 Salary: €687M\n",
      "Mutated Team:\n",
      "  - GK: Ryan Mitchell | Skill: 83 | Salary: €85M\n",
      "  - DEF: Jaxon Griffin | Skill: 79 | Salary: €65M\n",
      "  - DEF: Maxwell Flores | Skill: 81 | Salary: €72M\n",
      "  - MID: Nathan Wright | Skill: 92 | Salary: €120M\n",
      "  - MID: Dylan Morgan | Skill: 91 | Salary: €115M\n",
      "  - FWD: Elijah Sanders | Skill: 93 | Salary: €140M\n",
      "  - FWD: Adrian Collins | Skill: 85 | Salary: €90M\n",
      "    📊 Avg Skill: 86.29 | 💰 Salary: €687M\n",
      "\n",
      "✅ League Valid: True\n",
      "📌 Most changed team: Team 3\n"
     ]
    }
   ],
   "source": [
    "test_mutation_balance_teams()"
   ]
  },
  {
   "cell_type": "markdown",
   "id": "8d3544ea",
   "metadata": {},
   "source": [
    "# Crossovers"
   ]
  },
  {
   "cell_type": "code",
   "execution_count": 20,
   "id": "4c677d3f",
   "metadata": {},
   "outputs": [],
   "source": [
    "# Generate Parents\n",
    "parent1 = population[0]\n",
    "parent2 = population[1]"
   ]
  },
  {
   "cell_type": "markdown",
   "id": "10403f20",
   "metadata": {},
   "source": [
    "## #1 Crossover by Team"
   ]
  },
  {
   "cell_type": "code",
   "execution_count": 21,
   "id": "27618897",
   "metadata": {},
   "outputs": [],
   "source": [
    "# Apply team crossover\n",
    "child1_team, child2_team = team_crossover(parent1, parent2)"
   ]
  },
  {
   "cell_type": "code",
   "execution_count": 22,
   "id": "5b366f32",
   "metadata": {},
   "outputs": [
    {
     "name": "stdout",
     "output_type": "stream",
     "text": [
      "✅ Crossover applied successfully.\n"
     ]
    }
   ],
   "source": [
    "# Simple identity check\n",
    "if child1_team == parent1 and child2_team == parent2:\n",
    "    print(\"⚠️  No crossover effect — children are identical to parents.\")\n",
    "else:\n",
    "    print(\"✅ Crossover applied successfully.\")\n"
   ]
  },
  {
   "cell_type": "markdown",
   "id": "ed9590e9",
   "metadata": {},
   "source": [
    "### Testing code team_crossover"
   ]
  },
  {
   "cell_type": "code",
   "execution_count": 23,
   "id": "4112ecc0",
   "metadata": {},
   "outputs": [
    {
     "name": "stdout",
     "output_type": "stream",
     "text": [
      "\n",
      "👨 Parent 1 | 🧬 Fitness: 1.2302\n",
      "🏆 Team 1:\n",
      "    Blake Henderson (GK) - 📊 Skill: 87 - 💰 Salary: €95M\n",
      "    Owen Parker (DEF) - 📊 Skill: 88 - 💰 Salary: €100M\n",
      "    Caleb Fisher (DEF) - 📊 Skill: 84 - 💰 Salary: €85M\n",
      "    Bentley Rivera (MID) - 📊 Skill: 88 - 💰 Salary: €100M\n",
      "    Austin Torres (MID) - 📊 Skill: 82 - 💰 Salary: €80M\n",
      "    Julian Scott (FWD) - 📊 Skill: 92 - 💰 Salary: €130M\n",
      "    Zachary Nelson (FWD) - 📊 Skill: 86 - 💰 Salary: €92M\n",
      "🏆 Team 2:\n",
      "    Alex Carter (GK) - 📊 Skill: 85 - 💰 Salary: €90M\n",
      "    Lucas Bennett (DEF) - 📊 Skill: 85 - 💰 Salary: €90M\n",
      "    Mason Reed (DEF) - 📊 Skill: 82 - 💰 Salary: €75M\n",
      "    Gavin Richardson (MID) - 📊 Skill: 87 - 💰 Salary: €95M\n",
      "    Dominic Bell (MID) - 📊 Skill: 86 - 💰 Salary: €95M\n",
      "    Xavier Bryant (FWD) - 📊 Skill: 90 - 💰 Salary: €120M\n",
      "    Landon Powell (FWD) - 📊 Skill: 89 - 💰 Salary: €110M\n",
      "🏆 Team 3:\n",
      "    Jordan Smith (GK) - 📊 Skill: 88 - 💰 Salary: €100M\n",
      "    Logan Brooks (DEF) - 📊 Skill: 86 - 💰 Salary: €95M\n",
      "    Daniel Foster (DEF) - 📊 Skill: 90 - 💰 Salary: €110M\n",
      "    Hunter Cooper (MID) - 📊 Skill: 83 - 💰 Salary: €85M\n",
      "    Ashton Phillips (MID) - 📊 Skill: 90 - 💰 Salary: €110M\n",
      "    Chase Murphy (FWD) - 📊 Skill: 86 - 💰 Salary: €95M\n",
      "    Sebastian Perry (FWD) - 📊 Skill: 95 - 💰 Salary: €150M\n",
      "🏆 Team 4:\n",
      "    Chris Thompson (GK) - 📊 Skill: 80 - 💰 Salary: €80M\n",
      "    Brayden Hughes (DEF) - 📊 Skill: 87 - 💰 Salary: €100M\n",
      "    Ethan Howard (DEF) - 📊 Skill: 80 - 💰 Salary: €70M\n",
      "    Connor Hayes (MID) - 📊 Skill: 89 - 💰 Salary: €105M\n",
      "    Spencer Ward (MID) - 📊 Skill: 84 - 💰 Salary: €85M\n",
      "    Tyler Jenkins (FWD) - 📊 Skill: 80 - 💰 Salary: €70M\n",
      "    Colton Gray (FWD) - 📊 Skill: 91 - 💰 Salary: €125M\n",
      "🏆 Team 5:\n",
      "    Ryan Mitchell (GK) - 📊 Skill: 83 - 💰 Salary: €85M\n",
      "    Jaxon Griffin (DEF) - 📊 Skill: 79 - 💰 Salary: €65M\n",
      "    Maxwell Flores (DEF) - 📊 Skill: 81 - 💰 Salary: €72M\n",
      "    Nathan Wright (MID) - 📊 Skill: 92 - 💰 Salary: €120M\n",
      "    Dylan Morgan (MID) - 📊 Skill: 91 - 💰 Salary: €115M\n",
      "    Elijah Sanders (FWD) - 📊 Skill: 93 - 💰 Salary: €140M\n",
      "    Adrian Collins (FWD) - 📊 Skill: 85 - 💰 Salary: €90M\n",
      "\n",
      "👩 Parent 2 | 🧬 Fitness: 1.8766\n",
      "🏆 Team 1:\n",
      "    Chris Thompson (GK) - 📊 Skill: 80 - 💰 Salary: €80M\n",
      "    Ethan Howard (DEF) - 📊 Skill: 80 - 💰 Salary: €70M\n",
      "    Maxwell Flores (DEF) - 📊 Skill: 81 - 💰 Salary: €72M\n",
      "    Spencer Ward (MID) - 📊 Skill: 84 - 💰 Salary: €85M\n",
      "    Connor Hayes (MID) - 📊 Skill: 89 - 💰 Salary: €105M\n",
      "    Tyler Jenkins (FWD) - 📊 Skill: 80 - 💰 Salary: €70M\n",
      "    Chase Murphy (FWD) - 📊 Skill: 86 - 💰 Salary: €95M\n",
      "🏆 Team 2:\n",
      "    Alex Carter (GK) - 📊 Skill: 85 - 💰 Salary: €90M\n",
      "    Daniel Foster (DEF) - 📊 Skill: 90 - 💰 Salary: €110M\n",
      "    Jaxon Griffin (DEF) - 📊 Skill: 79 - 💰 Salary: €65M\n",
      "    Dylan Morgan (MID) - 📊 Skill: 91 - 💰 Salary: €115M\n",
      "    Austin Torres (MID) - 📊 Skill: 82 - 💰 Salary: €80M\n",
      "    Sebastian Perry (FWD) - 📊 Skill: 95 - 💰 Salary: €150M\n",
      "    Elijah Sanders (FWD) - 📊 Skill: 93 - 💰 Salary: €140M\n",
      "🏆 Team 3:\n",
      "    Blake Henderson (GK) - 📊 Skill: 87 - 💰 Salary: €95M\n",
      "    Owen Parker (DEF) - 📊 Skill: 88 - 💰 Salary: €100M\n",
      "    Mason Reed (DEF) - 📊 Skill: 82 - 💰 Salary: €75M\n",
      "    Ashton Phillips (MID) - 📊 Skill: 90 - 💰 Salary: €110M\n",
      "    Dominic Bell (MID) - 📊 Skill: 86 - 💰 Salary: €95M\n",
      "    Julian Scott (FWD) - 📊 Skill: 92 - 💰 Salary: €130M\n",
      "    Colton Gray (FWD) - 📊 Skill: 91 - 💰 Salary: €125M\n",
      "🏆 Team 4:\n",
      "    Jordan Smith (GK) - 📊 Skill: 88 - 💰 Salary: €100M\n",
      "    Brayden Hughes (DEF) - 📊 Skill: 87 - 💰 Salary: €100M\n",
      "    Caleb Fisher (DEF) - 📊 Skill: 84 - 💰 Salary: €85M\n",
      "    Gavin Richardson (MID) - 📊 Skill: 87 - 💰 Salary: €95M\n",
      "    Hunter Cooper (MID) - 📊 Skill: 83 - 💰 Salary: €85M\n",
      "    Zachary Nelson (FWD) - 📊 Skill: 86 - 💰 Salary: €92M\n",
      "    Landon Powell (FWD) - 📊 Skill: 89 - 💰 Salary: €110M\n",
      "🏆 Team 5:\n",
      "    Ryan Mitchell (GK) - 📊 Skill: 83 - 💰 Salary: €85M\n",
      "    Logan Brooks (DEF) - 📊 Skill: 86 - 💰 Salary: €95M\n",
      "    Lucas Bennett (DEF) - 📊 Skill: 85 - 💰 Salary: €90M\n",
      "    Bentley Rivera (MID) - 📊 Skill: 88 - 💰 Salary: €100M\n",
      "    Nathan Wright (MID) - 📊 Skill: 92 - 💰 Salary: €120M\n",
      "    Adrian Collins (FWD) - 📊 Skill: 85 - 💰 Salary: €90M\n",
      "    Xavier Bryant (FWD) - 📊 Skill: 90 - 💰 Salary: €120M\n",
      "\n",
      "🧒 Child 1 (Team Crossover) | 🧬 Fitness: 1.3260\n",
      "🏆 Team 1:\n",
      "    Blake Henderson (GK) - 📊 Skill: 87 - 💰 Salary: €95M\n",
      "    Owen Parker (DEF) - 📊 Skill: 88 - 💰 Salary: €100M\n",
      "    Caleb Fisher (DEF) - 📊 Skill: 84 - 💰 Salary: €85M\n",
      "    Bentley Rivera (MID) - 📊 Skill: 88 - 💰 Salary: €100M\n",
      "    Austin Torres (MID) - 📊 Skill: 82 - 💰 Salary: €80M\n",
      "    Julian Scott (FWD) - 📊 Skill: 92 - 💰 Salary: €130M\n",
      "    Zachary Nelson (FWD) - 📊 Skill: 86 - 💰 Salary: €92M\n",
      "🏆 Team 2:\n",
      "    Alex Carter (GK) - 📊 Skill: 85 - 💰 Salary: €90M\n",
      "    Lucas Bennett (DEF) - 📊 Skill: 85 - 💰 Salary: €90M\n",
      "    Mason Reed (DEF) - 📊 Skill: 82 - 💰 Salary: €75M\n",
      "    Gavin Richardson (MID) - 📊 Skill: 87 - 💰 Salary: €95M\n",
      "    Dominic Bell (MID) - 📊 Skill: 86 - 💰 Salary: €95M\n",
      "    Xavier Bryant (FWD) - 📊 Skill: 90 - 💰 Salary: €120M\n",
      "    Landon Powell (FWD) - 📊 Skill: 89 - 💰 Salary: €110M\n",
      "🏆 Team 3:\n",
      "    Jordan Smith (GK) - 📊 Skill: 88 - 💰 Salary: €100M\n",
      "    Logan Brooks (DEF) - 📊 Skill: 86 - 💰 Salary: €95M\n",
      "    Daniel Foster (DEF) - 📊 Skill: 90 - 💰 Salary: €110M\n",
      "    Hunter Cooper (MID) - 📊 Skill: 83 - 💰 Salary: €85M\n",
      "    Ashton Phillips (MID) - 📊 Skill: 90 - 💰 Salary: €110M\n",
      "    Chase Murphy (FWD) - 📊 Skill: 86 - 💰 Salary: €95M\n",
      "    Sebastian Perry (FWD) - 📊 Skill: 95 - 💰 Salary: €150M\n",
      "🏆 Team 4:\n",
      "    Ryan Mitchell (GK) - 📊 Skill: 83 - 💰 Salary: €85M\n",
      "    Maxwell Flores (DEF) - 📊 Skill: 81 - 💰 Salary: €72M\n",
      "    Jaxon Griffin (DEF) - 📊 Skill: 79 - 💰 Salary: €65M\n",
      "    Spencer Ward (MID) - 📊 Skill: 84 - 💰 Salary: €85M\n",
      "    Dylan Morgan (MID) - 📊 Skill: 91 - 💰 Salary: €115M\n",
      "    Tyler Jenkins (FWD) - 📊 Skill: 80 - 💰 Salary: €70M\n",
      "    Colton Gray (FWD) - 📊 Skill: 91 - 💰 Salary: €125M\n",
      "🏆 Team 5:\n",
      "    Chris Thompson (GK) - 📊 Skill: 80 - 💰 Salary: €80M\n",
      "    Ethan Howard (DEF) - 📊 Skill: 80 - 💰 Salary: €70M\n",
      "    Brayden Hughes (DEF) - 📊 Skill: 87 - 💰 Salary: €100M\n",
      "    Connor Hayes (MID) - 📊 Skill: 89 - 💰 Salary: €105M\n",
      "    Nathan Wright (MID) - 📊 Skill: 92 - 💰 Salary: €120M\n",
      "    Adrian Collins (FWD) - 📊 Skill: 85 - 💰 Salary: €90M\n",
      "    Elijah Sanders (FWD) - 📊 Skill: 93 - 💰 Salary: €140M\n",
      "\n",
      "🧒 Child 2 (Team Crossover) | 🧬 Fitness: 1.9068\n",
      "🏆 Team 1:\n",
      "    Chris Thompson (GK) - 📊 Skill: 80 - 💰 Salary: €80M\n",
      "    Ethan Howard (DEF) - 📊 Skill: 80 - 💰 Salary: €70M\n",
      "    Maxwell Flores (DEF) - 📊 Skill: 81 - 💰 Salary: €72M\n",
      "    Spencer Ward (MID) - 📊 Skill: 84 - 💰 Salary: €85M\n",
      "    Connor Hayes (MID) - 📊 Skill: 89 - 💰 Salary: €105M\n",
      "    Tyler Jenkins (FWD) - 📊 Skill: 80 - 💰 Salary: €70M\n",
      "    Chase Murphy (FWD) - 📊 Skill: 86 - 💰 Salary: €95M\n",
      "🏆 Team 2:\n",
      "    Alex Carter (GK) - 📊 Skill: 85 - 💰 Salary: €90M\n",
      "    Daniel Foster (DEF) - 📊 Skill: 90 - 💰 Salary: €110M\n",
      "    Jaxon Griffin (DEF) - 📊 Skill: 79 - 💰 Salary: €65M\n",
      "    Dylan Morgan (MID) - 📊 Skill: 91 - 💰 Salary: €115M\n",
      "    Austin Torres (MID) - 📊 Skill: 82 - 💰 Salary: €80M\n",
      "    Sebastian Perry (FWD) - 📊 Skill: 95 - 💰 Salary: €150M\n",
      "    Elijah Sanders (FWD) - 📊 Skill: 93 - 💰 Salary: €140M\n",
      "🏆 Team 3:\n",
      "    Blake Henderson (GK) - 📊 Skill: 87 - 💰 Salary: €95M\n",
      "    Owen Parker (DEF) - 📊 Skill: 88 - 💰 Salary: €100M\n",
      "    Mason Reed (DEF) - 📊 Skill: 82 - 💰 Salary: €75M\n",
      "    Ashton Phillips (MID) - 📊 Skill: 90 - 💰 Salary: €110M\n",
      "    Dominic Bell (MID) - 📊 Skill: 86 - 💰 Salary: €95M\n",
      "    Julian Scott (FWD) - 📊 Skill: 92 - 💰 Salary: €130M\n",
      "    Colton Gray (FWD) - 📊 Skill: 91 - 💰 Salary: €125M\n",
      "🏆 Team 4:\n",
      "    Ryan Mitchell (GK) - 📊 Skill: 83 - 💰 Salary: €85M\n",
      "    Lucas Bennett (DEF) - 📊 Skill: 85 - 💰 Salary: €90M\n",
      "    Caleb Fisher (DEF) - 📊 Skill: 84 - 💰 Salary: €85M\n",
      "    Nathan Wright (MID) - 📊 Skill: 92 - 💰 Salary: €120M\n",
      "    Hunter Cooper (MID) - 📊 Skill: 83 - 💰 Salary: €85M\n",
      "    Adrian Collins (FWD) - 📊 Skill: 85 - 💰 Salary: €90M\n",
      "    Xavier Bryant (FWD) - 📊 Skill: 90 - 💰 Salary: €120M\n",
      "🏆 Team 5:\n",
      "    Jordan Smith (GK) - 📊 Skill: 88 - 💰 Salary: €100M\n",
      "    Brayden Hughes (DEF) - 📊 Skill: 87 - 💰 Salary: €100M\n",
      "    Logan Brooks (DEF) - 📊 Skill: 86 - 💰 Salary: €95M\n",
      "    Bentley Rivera (MID) - 📊 Skill: 88 - 💰 Salary: €100M\n",
      "    Gavin Richardson (MID) - 📊 Skill: 87 - 💰 Salary: €95M\n",
      "    Landon Powell (FWD) - 📊 Skill: 89 - 💰 Salary: €110M\n",
      "    Zachary Nelson (FWD) - 📊 Skill: 86 - 💰 Salary: €92M\n"
     ]
    }
   ],
   "source": [
    "# === TEAM_CROSSOVER TESTING ===\n",
    "\n",
    "# Pretty printer for LeagueIndividuals\n",
    "def print_league(individual, label):\n",
    "    print(f\"\\n{label} | 🧬 Fitness: {individual.fitness:.4f}\")\n",
    "    for i, team in enumerate(individual.league):\n",
    "        print(f\"🏆 Team {i+1}:\")\n",
    "        for p in team.players:\n",
    "            print(f\"    {p.name} ({p.position}) - 📊 Skill: {p.skill} - 💰 Salary: €{p.salary}M\")\n",
    "\n",
    "\n",
    "# Print parents and children\n",
    "print_league(parent1, \"👨 Parent 1\")\n",
    "print_league(parent2, \"👩 Parent 2\")\n",
    "print_league(child1_team,  \"🧒 Child 1 (Team Crossover)\")\n",
    "print_league(child2_team,  \"🧒 Child 2 (Team Crossover)\")"
   ]
  },
  {
   "cell_type": "markdown",
   "id": "d10a3cc7",
   "metadata": {},
   "source": [
    "## #2 Crossover by Position"
   ]
  },
  {
   "cell_type": "code",
   "execution_count": 24,
   "id": "89d94270",
   "metadata": {},
   "outputs": [],
   "source": [
    "# Apply position crossover\n",
    "child1_pos, child2_pos = position_crossover(parent1, parent2)"
   ]
  },
  {
   "cell_type": "code",
   "execution_count": 25,
   "id": "c22ca6ce",
   "metadata": {},
   "outputs": [
    {
     "name": "stdout",
     "output_type": "stream",
     "text": [
      "✅ Crossover applied successfully.\n"
     ]
    }
   ],
   "source": [
    "# Simple identity check\n",
    "if child1_pos == parent1 and child2_pos == parent2:\n",
    "    print(\"⚠️  No crossover effect — children are identical to parents.\")\n",
    "else:\n",
    "    print(\"✅ Crossover applied successfully.\")\n"
   ]
  },
  {
   "cell_type": "markdown",
   "id": "e47c8e2e",
   "metadata": {},
   "source": [
    "### Testing code position_crossover"
   ]
  },
  {
   "cell_type": "code",
   "execution_count": 26,
   "id": "42d6c0d8",
   "metadata": {},
   "outputs": [
    {
     "name": "stdout",
     "output_type": "stream",
     "text": [
      "\n",
      "👨 Parent 1 | 🧬 Fitness: 1.2302\n",
      "🏆 Team 1:\n",
      "    Blake Henderson (GK) - 📊 Skill: 87 - 💰 Salary: €95M\n",
      "    Owen Parker (DEF) - 📊 Skill: 88 - 💰 Salary: €100M\n",
      "    Caleb Fisher (DEF) - 📊 Skill: 84 - 💰 Salary: €85M\n",
      "    Bentley Rivera (MID) - 📊 Skill: 88 - 💰 Salary: €100M\n",
      "    Austin Torres (MID) - 📊 Skill: 82 - 💰 Salary: €80M\n",
      "    Julian Scott (FWD) - 📊 Skill: 92 - 💰 Salary: €130M\n",
      "    Zachary Nelson (FWD) - 📊 Skill: 86 - 💰 Salary: €92M\n",
      "🏆 Team 2:\n",
      "    Alex Carter (GK) - 📊 Skill: 85 - 💰 Salary: €90M\n",
      "    Lucas Bennett (DEF) - 📊 Skill: 85 - 💰 Salary: €90M\n",
      "    Mason Reed (DEF) - 📊 Skill: 82 - 💰 Salary: €75M\n",
      "    Gavin Richardson (MID) - 📊 Skill: 87 - 💰 Salary: €95M\n",
      "    Dominic Bell (MID) - 📊 Skill: 86 - 💰 Salary: €95M\n",
      "    Xavier Bryant (FWD) - 📊 Skill: 90 - 💰 Salary: €120M\n",
      "    Landon Powell (FWD) - 📊 Skill: 89 - 💰 Salary: €110M\n",
      "🏆 Team 3:\n",
      "    Jordan Smith (GK) - 📊 Skill: 88 - 💰 Salary: €100M\n",
      "    Logan Brooks (DEF) - 📊 Skill: 86 - 💰 Salary: €95M\n",
      "    Daniel Foster (DEF) - 📊 Skill: 90 - 💰 Salary: €110M\n",
      "    Hunter Cooper (MID) - 📊 Skill: 83 - 💰 Salary: €85M\n",
      "    Ashton Phillips (MID) - 📊 Skill: 90 - 💰 Salary: €110M\n",
      "    Chase Murphy (FWD) - 📊 Skill: 86 - 💰 Salary: €95M\n",
      "    Sebastian Perry (FWD) - 📊 Skill: 95 - 💰 Salary: €150M\n",
      "🏆 Team 4:\n",
      "    Chris Thompson (GK) - 📊 Skill: 80 - 💰 Salary: €80M\n",
      "    Brayden Hughes (DEF) - 📊 Skill: 87 - 💰 Salary: €100M\n",
      "    Ethan Howard (DEF) - 📊 Skill: 80 - 💰 Salary: €70M\n",
      "    Connor Hayes (MID) - 📊 Skill: 89 - 💰 Salary: €105M\n",
      "    Spencer Ward (MID) - 📊 Skill: 84 - 💰 Salary: €85M\n",
      "    Tyler Jenkins (FWD) - 📊 Skill: 80 - 💰 Salary: €70M\n",
      "    Colton Gray (FWD) - 📊 Skill: 91 - 💰 Salary: €125M\n",
      "🏆 Team 5:\n",
      "    Ryan Mitchell (GK) - 📊 Skill: 83 - 💰 Salary: €85M\n",
      "    Jaxon Griffin (DEF) - 📊 Skill: 79 - 💰 Salary: €65M\n",
      "    Maxwell Flores (DEF) - 📊 Skill: 81 - 💰 Salary: €72M\n",
      "    Nathan Wright (MID) - 📊 Skill: 92 - 💰 Salary: €120M\n",
      "    Dylan Morgan (MID) - 📊 Skill: 91 - 💰 Salary: €115M\n",
      "    Elijah Sanders (FWD) - 📊 Skill: 93 - 💰 Salary: €140M\n",
      "    Adrian Collins (FWD) - 📊 Skill: 85 - 💰 Salary: €90M\n",
      "\n",
      "👩 Parent 2 | 🧬 Fitness: 1.8766\n",
      "🏆 Team 1:\n",
      "    Chris Thompson (GK) - 📊 Skill: 80 - 💰 Salary: €80M\n",
      "    Ethan Howard (DEF) - 📊 Skill: 80 - 💰 Salary: €70M\n",
      "    Maxwell Flores (DEF) - 📊 Skill: 81 - 💰 Salary: €72M\n",
      "    Spencer Ward (MID) - 📊 Skill: 84 - 💰 Salary: €85M\n",
      "    Connor Hayes (MID) - 📊 Skill: 89 - 💰 Salary: €105M\n",
      "    Tyler Jenkins (FWD) - 📊 Skill: 80 - 💰 Salary: €70M\n",
      "    Chase Murphy (FWD) - 📊 Skill: 86 - 💰 Salary: €95M\n",
      "🏆 Team 2:\n",
      "    Alex Carter (GK) - 📊 Skill: 85 - 💰 Salary: €90M\n",
      "    Daniel Foster (DEF) - 📊 Skill: 90 - 💰 Salary: €110M\n",
      "    Jaxon Griffin (DEF) - 📊 Skill: 79 - 💰 Salary: €65M\n",
      "    Dylan Morgan (MID) - 📊 Skill: 91 - 💰 Salary: €115M\n",
      "    Austin Torres (MID) - 📊 Skill: 82 - 💰 Salary: €80M\n",
      "    Sebastian Perry (FWD) - 📊 Skill: 95 - 💰 Salary: €150M\n",
      "    Elijah Sanders (FWD) - 📊 Skill: 93 - 💰 Salary: €140M\n",
      "🏆 Team 3:\n",
      "    Blake Henderson (GK) - 📊 Skill: 87 - 💰 Salary: €95M\n",
      "    Owen Parker (DEF) - 📊 Skill: 88 - 💰 Salary: €100M\n",
      "    Mason Reed (DEF) - 📊 Skill: 82 - 💰 Salary: €75M\n",
      "    Ashton Phillips (MID) - 📊 Skill: 90 - 💰 Salary: €110M\n",
      "    Dominic Bell (MID) - 📊 Skill: 86 - 💰 Salary: €95M\n",
      "    Julian Scott (FWD) - 📊 Skill: 92 - 💰 Salary: €130M\n",
      "    Colton Gray (FWD) - 📊 Skill: 91 - 💰 Salary: €125M\n",
      "🏆 Team 4:\n",
      "    Jordan Smith (GK) - 📊 Skill: 88 - 💰 Salary: €100M\n",
      "    Brayden Hughes (DEF) - 📊 Skill: 87 - 💰 Salary: €100M\n",
      "    Caleb Fisher (DEF) - 📊 Skill: 84 - 💰 Salary: €85M\n",
      "    Gavin Richardson (MID) - 📊 Skill: 87 - 💰 Salary: €95M\n",
      "    Hunter Cooper (MID) - 📊 Skill: 83 - 💰 Salary: €85M\n",
      "    Zachary Nelson (FWD) - 📊 Skill: 86 - 💰 Salary: €92M\n",
      "    Landon Powell (FWD) - 📊 Skill: 89 - 💰 Salary: €110M\n",
      "🏆 Team 5:\n",
      "    Ryan Mitchell (GK) - 📊 Skill: 83 - 💰 Salary: €85M\n",
      "    Logan Brooks (DEF) - 📊 Skill: 86 - 💰 Salary: €95M\n",
      "    Lucas Bennett (DEF) - 📊 Skill: 85 - 💰 Salary: €90M\n",
      "    Bentley Rivera (MID) - 📊 Skill: 88 - 💰 Salary: €100M\n",
      "    Nathan Wright (MID) - 📊 Skill: 92 - 💰 Salary: €120M\n",
      "    Adrian Collins (FWD) - 📊 Skill: 85 - 💰 Salary: €90M\n",
      "    Xavier Bryant (FWD) - 📊 Skill: 90 - 💰 Salary: €120M\n",
      "\n",
      "👶 Child 1 (Position Crossover) | 🧬 Fitness: 1.3291\n",
      "🏆 Team 1:\n",
      "    Blake Henderson (GK) - 📊 Skill: 87 - 💰 Salary: €95M\n",
      "    Mason Reed (DEF) - 📊 Skill: 82 - 💰 Salary: €75M\n",
      "    Daniel Foster (DEF) - 📊 Skill: 90 - 💰 Salary: €110M\n",
      "    Connor Hayes (MID) - 📊 Skill: 89 - 💰 Salary: €105M\n",
      "    Spencer Ward (MID) - 📊 Skill: 84 - 💰 Salary: €85M\n",
      "    Elijah Sanders (FWD) - 📊 Skill: 93 - 💰 Salary: €140M\n",
      "    Zachary Nelson (FWD) - 📊 Skill: 86 - 💰 Salary: €92M\n",
      "🏆 Team 2:\n",
      "    Jordan Smith (GK) - 📊 Skill: 88 - 💰 Salary: €100M\n",
      "    Jaxon Griffin (DEF) - 📊 Skill: 79 - 💰 Salary: €65M\n",
      "    Owen Parker (DEF) - 📊 Skill: 88 - 💰 Salary: €100M\n",
      "    Hunter Cooper (MID) - 📊 Skill: 83 - 💰 Salary: €85M\n",
      "    Austin Torres (MID) - 📊 Skill: 82 - 💰 Salary: €80M\n",
      "    Tyler Jenkins (FWD) - 📊 Skill: 80 - 💰 Salary: €70M\n",
      "    Landon Powell (FWD) - 📊 Skill: 89 - 💰 Salary: €110M\n",
      "🏆 Team 3:\n",
      "    Ryan Mitchell (GK) - 📊 Skill: 83 - 💰 Salary: €85M\n",
      "    Brayden Hughes (DEF) - 📊 Skill: 87 - 💰 Salary: €100M\n",
      "    Maxwell Flores (DEF) - 📊 Skill: 81 - 💰 Salary: €72M\n",
      "    Ashton Phillips (MID) - 📊 Skill: 90 - 💰 Salary: €110M\n",
      "    Nathan Wright (MID) - 📊 Skill: 92 - 💰 Salary: €120M\n",
      "    Chase Murphy (FWD) - 📊 Skill: 86 - 💰 Salary: €95M\n",
      "    Xavier Bryant (FWD) - 📊 Skill: 90 - 💰 Salary: €120M\n",
      "🏆 Team 4:\n",
      "    Alex Carter (GK) - 📊 Skill: 85 - 💰 Salary: €90M\n",
      "    Lucas Bennett (DEF) - 📊 Skill: 85 - 💰 Salary: €90M\n",
      "    Ethan Howard (DEF) - 📊 Skill: 80 - 💰 Salary: €70M\n",
      "    Dylan Morgan (MID) - 📊 Skill: 91 - 💰 Salary: €115M\n",
      "    Bentley Rivera (MID) - 📊 Skill: 88 - 💰 Salary: €100M\n",
      "    Sebastian Perry (FWD) - 📊 Skill: 95 - 💰 Salary: €150M\n",
      "    Colton Gray (FWD) - 📊 Skill: 91 - 💰 Salary: €125M\n",
      "🏆 Team 5:\n",
      "    Chris Thompson (GK) - 📊 Skill: 80 - 💰 Salary: €80M\n",
      "    Caleb Fisher (DEF) - 📊 Skill: 84 - 💰 Salary: €85M\n",
      "    Logan Brooks (DEF) - 📊 Skill: 86 - 💰 Salary: €95M\n",
      "    Dominic Bell (MID) - 📊 Skill: 86 - 💰 Salary: €95M\n",
      "    Gavin Richardson (MID) - 📊 Skill: 87 - 💰 Salary: €95M\n",
      "    Julian Scott (FWD) - 📊 Skill: 92 - 💰 Salary: €130M\n",
      "    Adrian Collins (FWD) - 📊 Skill: 85 - 💰 Salary: €90M\n",
      "\n",
      "👶 Child 2 (Position Crossover) | 🧬 Fitness: 0.6725\n",
      "🏆 Team 1:\n",
      "    Alex Carter (GK) - 📊 Skill: 85 - 💰 Salary: €90M\n",
      "    Logan Brooks (DEF) - 📊 Skill: 86 - 💰 Salary: €95M\n",
      "    Owen Parker (DEF) - 📊 Skill: 88 - 💰 Salary: €100M\n",
      "    Hunter Cooper (MID) - 📊 Skill: 83 - 💰 Salary: €85M\n",
      "    Gavin Richardson (MID) - 📊 Skill: 87 - 💰 Salary: €95M\n",
      "    Julian Scott (FWD) - 📊 Skill: 92 - 💰 Salary: €130M\n",
      "    Tyler Jenkins (FWD) - 📊 Skill: 80 - 💰 Salary: €70M\n",
      "🏆 Team 2:\n",
      "    Chris Thompson (GK) - 📊 Skill: 80 - 💰 Salary: €80M\n",
      "    Daniel Foster (DEF) - 📊 Skill: 90 - 💰 Salary: €110M\n",
      "    Mason Reed (DEF) - 📊 Skill: 82 - 💰 Salary: €75M\n",
      "    Dominic Bell (MID) - 📊 Skill: 86 - 💰 Salary: €95M\n",
      "    Ashton Phillips (MID) - 📊 Skill: 90 - 💰 Salary: €110M\n",
      "    Colton Gray (FWD) - 📊 Skill: 91 - 💰 Salary: €125M\n",
      "    Sebastian Perry (FWD) - 📊 Skill: 95 - 💰 Salary: €150M\n",
      "🏆 Team 3:\n",
      "    Blake Henderson (GK) - 📊 Skill: 87 - 💰 Salary: €95M\n",
      "    Lucas Bennett (DEF) - 📊 Skill: 85 - 💰 Salary: €90M\n",
      "    Ethan Howard (DEF) - 📊 Skill: 80 - 💰 Salary: €70M\n",
      "    Spencer Ward (MID) - 📊 Skill: 84 - 💰 Salary: €85M\n",
      "    Nathan Wright (MID) - 📊 Skill: 92 - 💰 Salary: €120M\n",
      "    Landon Powell (FWD) - 📊 Skill: 89 - 💰 Salary: €110M\n",
      "    Chase Murphy (FWD) - 📊 Skill: 86 - 💰 Salary: €95M\n",
      "🏆 Team 4:\n",
      "    Ryan Mitchell (GK) - 📊 Skill: 83 - 💰 Salary: €85M\n",
      "    Caleb Fisher (DEF) - 📊 Skill: 84 - 💰 Salary: €85M\n",
      "    Brayden Hughes (DEF) - 📊 Skill: 87 - 💰 Salary: €100M\n",
      "    Bentley Rivera (MID) - 📊 Skill: 88 - 💰 Salary: €100M\n",
      "    Connor Hayes (MID) - 📊 Skill: 89 - 💰 Salary: €105M\n",
      "    Zachary Nelson (FWD) - 📊 Skill: 86 - 💰 Salary: €92M\n",
      "    Adrian Collins (FWD) - 📊 Skill: 85 - 💰 Salary: €90M\n",
      "🏆 Team 5:\n",
      "    Jordan Smith (GK) - 📊 Skill: 88 - 💰 Salary: €100M\n",
      "    Jaxon Griffin (DEF) - 📊 Skill: 79 - 💰 Salary: €65M\n",
      "    Maxwell Flores (DEF) - 📊 Skill: 81 - 💰 Salary: €72M\n",
      "    Austin Torres (MID) - 📊 Skill: 82 - 💰 Salary: €80M\n",
      "    Dylan Morgan (MID) - 📊 Skill: 91 - 💰 Salary: €115M\n",
      "    Elijah Sanders (FWD) - 📊 Skill: 93 - 💰 Salary: €140M\n",
      "    Xavier Bryant (FWD) - 📊 Skill: 90 - 💰 Salary: €120M\n"
     ]
    }
   ],
   "source": [
    "# === POSITION_CROSSOVER TESTING ===\n",
    "\n",
    "# Pretty printer for LeagueIndividuals\n",
    "def print_league(individual, label):\n",
    "    print(f\"\\n{label} | 🧬 Fitness: {individual.fitness:.4f}\")\n",
    "    for i, team in enumerate(individual.league):\n",
    "        print(f\"🏆 Team {i+1}:\")\n",
    "        for p in team.players:\n",
    "            print(f\"    {p.name} ({p.position}) - 📊 Skill: {p.skill} - 💰 Salary: €{p.salary}M\")\n",
    "\n",
    "# Print detailed structure of both parents and children\n",
    "print_league(parent1, \"👨 Parent 1\")\n",
    "print_league(parent2, \"👩 Parent 2\")\n",
    "print_league(child1_pos, \"👶 Child 1 (Position Crossover)\")\n",
    "print_league(child2_pos, \"👶 Child 2 (Position Crossover)\")\n"
   ]
  },
  {
   "cell_type": "markdown",
   "id": "8e8bca3e",
   "metadata": {},
   "source": [
    "# Selection"
   ]
  },
  {
   "cell_type": "code",
   "execution_count": 27,
   "id": "9076b69f",
   "metadata": {},
   "outputs": [
    {
     "name": "stdout",
     "output_type": "stream",
     "text": [
      "\n",
      "🎯 Roulette Selection\n",
      "Selected 1 - Fitness: 0.7581\n",
      "\n",
      "🎯 Rank Selection\n",
      "Selected 1 - Fitness: 0.7897\n",
      "\n",
      "🎯 Tournament Selection\n",
      "Selected 1 - Fitness: 0.8447\n"
     ]
    }
   ],
   "source": [
    "# Step 2: Compute fitness list\n",
    "fitness = [indiv.fitness for indiv in population]\n",
    "\n",
    "# Step 3: Apply each selection method\n",
    "selected_roulette = sel_roulette(population, fitness)\n",
    "selected_rank = sel_rank(population, fitness)\n",
    "selected_tournament = sel_tournament(population, fitness, k=3)\n",
    "\n",
    "# Step 4: Print results\n",
    "def print_selected(label, selected):\n",
    "    print(f\"\\n{label}\")\n",
    "    for i, indiv in enumerate(selected):\n",
    "        print(f\"Selected {i+1} - Fitness: {indiv.fitness:.4f}\")\n",
    "\n",
    "print_selected(\"🎯 Roulette Selection\", selected_roulette)\n",
    "print_selected(\"🎯 Rank Selection\", selected_rank)\n",
    "print_selected(\"🎯 Tournament Selection\", selected_tournament)\n"
   ]
  },
  {
   "cell_type": "code",
   "execution_count": 28,
   "id": "614673ce",
   "metadata": {},
   "outputs": [
    {
     "data": {
      "image/png": "[encoded data removed]",
      "text/plain": [
       "<Figure size 800x500 with 1 Axes>"
      ]
     },
     "metadata": {},
     "output_type": "display_data"
    },
    {
     "data": {
      "image/png": "[encoded data removed]",
      "text/plain": [
       "<Figure size 800x500 with 1 Axes>"
      ]
     },
     "metadata": {},
     "output_type": "display_data"
    },
    {
     "data": {
      "image/png": "[encoded data removed]",
      "text/plain": [
       "<Figure size 800x500 with 1 Axes>"
      ]
     },
     "metadata": {},
     "output_type": "display_data"
    }
   ],
   "source": [
    "# Step 1: Generate population\n",
    "population = generate_initial_population(\n",
    "    POPULATION_SIZE,\n",
    "    players_by_position,\n",
    "    TEAM_STRUCTURE,\n",
    "    BUDGET_LIMIT,\n",
    "    NUM_TEAMS\n",
    ")\n",
    "\n",
    "# Step 2: Compute fitness\n",
    "fitness = [ind.fitness for ind in population]\n",
    "\n",
    "# Step 3: Selection function with tracking\n",
    "def run_selection(method_func, label, **kwargs):\n",
    "    selected_indices = []\n",
    "    for _ in range(1000):\n",
    "        selected = method_func(population, fitness, num=1, **kwargs)\n",
    "        idx = population.index(selected[0])\n",
    "        selected_indices.append(idx)\n",
    "    count = Counter(selected_indices)\n",
    "    return label, count\n",
    "\n",
    "# Step 4: Run all selection methods\n",
    "label_roulette, count_roulette = run_selection(sel_roulette, \"Roulette\")\n",
    "label_rank, count_rank = run_selection(sel_rank, \"Rank\")\n",
    "label_tournament, count_tournament = run_selection(sel_tournament, \"Tournament\", k=3)\n",
    "\n",
    "# Step 5: Barplot helper\n",
    "def plot_selection_counts(label, counter):\n",
    "    indices = list(range(len(population)))\n",
    "    counts = [counter.get(i, 0) for i in indices]\n",
    "\n",
    "    plt.figure(figsize=(8, 5))\n",
    "    plt.bar(indices, counts, color='skyblue')\n",
    "    plt.xticks(indices)\n",
    "    plt.xlabel(\"Individual Index (in population)\")\n",
    "    plt.ylabel(\"Times Selected (out of 1000)\")\n",
    "    plt.title(f\"{label} Selection Frequency\")\n",
    "    plt.tight_layout()\n",
    "    plt.show()\n",
    "\n",
    "# Step 6: Plot each method\n",
    "plot_selection_counts(label_roulette, count_roulette)\n",
    "plot_selection_counts(label_rank, count_rank)\n",
    "plot_selection_counts(label_tournament, count_tournament)\n"
   ]
  },
  {
   "cell_type": "code",
   "execution_count": 29,
   "id": "b910a63d",
   "metadata": {},
   "outputs": [
    {
     "data": {
      "text/plain": [
       "[<LeagueIndividual fitness=1.0118>,\n",
       " <LeagueIndividual fitness=1.1549>,\n",
       " <LeagueIndividual fitness=0.3659>,\n",
       " <LeagueIndividual fitness=0.8398>,\n",
       " <LeagueIndividual fitness=0.9187>,\n",
       " <LeagueIndividual fitness=1.8011>,\n",
       " <LeagueIndividual fitness=0.5883>,\n",
       " <LeagueIndividual fitness=1.3625>,\n",
       " <LeagueIndividual fitness=0.9831>,\n",
       " <LeagueIndividual fitness=0.5063>,\n",
       " <LeagueIndividual fitness=1.1514>,\n",
       " <LeagueIndividual fitness=1.7737>,\n",
       " <LeagueIndividual fitness=0.9914>,\n",
       " <LeagueIndividual fitness=0.2100>,\n",
       " <LeagueIndividual fitness=1.2068>,\n",
       " <LeagueIndividual fitness=1.2694>,\n",
       " <LeagueIndividual fitness=1.6122>,\n",
       " <LeagueIndividual fitness=1.0037>,\n",
       " <LeagueIndividual fitness=1.1478>,\n",
       " <LeagueIndividual fitness=0.8152>]"
      ]
     },
     "execution_count": 29,
     "metadata": {},
     "output_type": "execute_result"
    }
   ],
   "source": [
    "population"
   ]
  },
  {
   "cell_type": "markdown",
   "id": "0332b8e9",
   "metadata": {},
   "source": [
    "# Genetic Algorithm"
   ]
  },
  {
   "cell_type": "markdown",
   "id": "cd2baf02",
   "metadata": {},
   "source": [
    "## Generate Population for GA"
   ]
  },
  {
   "cell_type": "code",
   "execution_count": 30,
   "id": "bc30cf56",
   "metadata": {},
   "outputs": [],
   "source": [
    "# === GENERATE POPULATION ===\n",
    "raw_population = generate_initial_population(\n",
    "    POPULATION_SIZE,\n",
    "    players_by_position,\n",
    "    TEAM_STRUCTURE,\n",
    "    BUDGET_LIMIT, \n",
    "    NUM_TEAMS\n",
    ")\n",
    "\n",
    "# === Wrap as GASolution instances ===\n",
    "population = [GASolution(indiv) for indiv in raw_population]"
   ]
  },
  {
   "cell_type": "markdown",
   "id": "c517377d",
   "metadata": {},
   "source": [
    "## Parent Selection"
   ]
  },
  {
   "cell_type": "code",
   "execution_count": 31,
   "id": "bf6feefb",
   "metadata": {},
   "outputs": [
    {
     "name": "stdout",
     "output_type": "stream",
     "text": [
      "<GASolution fitness=0.8000>\n",
      "<GASolution fitness=0.8051>\n"
     ]
    }
   ],
   "source": [
    "# Example usage (optional test)\n",
    "parents = select_parents(population, method='tournament', num_parents=2)\n",
    "parent1, parent2 = parents\n",
    "print(parent1)\n",
    "print(parent2)"
   ]
  },
  {
   "cell_type": "markdown",
   "id": "b05560da",
   "metadata": {},
   "source": [
    "## GA Crossover"
   ]
  },
  {
   "cell_type": "code",
   "execution_count": 32,
   "id": "6c337a85",
   "metadata": {},
   "outputs": [],
   "source": [
    "# choose crossover function\n",
    "crossover_fn = team_crossover"
   ]
  },
  {
   "cell_type": "code",
   "execution_count": 33,
   "id": "760613bf",
   "metadata": {},
   "outputs": [],
   "source": [
    "# Apply crossover using GASolution's built-in method\n",
    "child1, child2 = parent1.crossover(parent2, crossover_fn)"
   ]
  },
  {
   "cell_type": "code",
   "execution_count": null,
   "id": "ffc0e266",
   "metadata": {},
   "outputs": [
    {
     "name": "stdout",
     "output_type": "stream",
     "text": [
      "Parent 1 Fitness: 0.799999999999998\n",
      "Parent 2 Fitness: 0.8050858744917355\n",
      "Child 1 Fitness: 0.9913915184512834\n",
      "Child 2 Fitness: 0.8050858744917355\n"
     ]
    }
   ],
   "source": [
    "# print summary\n",
    "print(\"Parent 1 Fitness:\", parent1.fitness())\n",
    "print(\"Parent 2 Fitness:\", parent2.fitness())\n",
    "print(\"Child 1 Fitness:\", child1.fitness())\n",
    "print(\"Child 2 Fitness:\", child2.fitness())"
   ]
  },
  {
   "cell_type": "code",
   "execution_count": null,
   "id": "245b4bee",
   "metadata": {},
   "outputs": [],
   "source": [
    "# select a random individual to mutate\n",
    "random_to_mutate = random.choice(population)"
   ]
  }
 ],
 "metadata": {
  "kernelspec": {
   "display_name": "MLProjectEnv",
   "language": "python",
   "name": "python3"
  },
  "language_info": {
   "codemirror_mode": {
    "name": "ipython",
    "version": 3
   },
   "file_extension": ".py",
   "mimetype": "text/x-python",
   "name": "python",
   "nbconvert_exporter": "python",
   "pygments_lexer": "ipython3",
   "version": "3.12.8"
  }
 },
 "nbformat": 4,
 "nbformat_minor": 5
}
