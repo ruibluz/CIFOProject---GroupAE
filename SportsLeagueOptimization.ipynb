{
 "cells": [
  {
   "cell_type": "markdown",
   "id": "d03de2aa",
   "metadata": {},
   "source": [
    "<div style=\"display: flex; align-items: center; justify-content: center; flex-wrap: wrap;\">\n",
    "    <div style=\"flex: 1; max-width: 400px; display: flex; justify-content: center;\">\n",
    "        <img src=\"https://diretorio.bad.pt/wp-content/uploads/2015/09/55c9dc4270c60-IMS-rgb_logo.png\" style=\"max-width: 50%; height: auto; margin-top: 50px; margin-bottom: 50px;margin-left: 6rem;\">\n",
    "    </div>\n",
    "    <div style=\"flex: 2; text-align: center; margin-top: 20px;margin-left: 8rem;\">\n",
    "        <div style=\"font-size: 28px; font-weight: bold; line-height: 1.2;\">\n",
    "            <span style=\"color:rgb(190, 214, 47);\">CIFO Project |</span> <span style=\"color:rgb(92, 102, 108);\">Sports League: Optimization using Genetic Algorithms</span>\n",
    "        </div>\n",
    "        <div style=\"font-size: 17px; font-weight: bold; margin-top: 10px;\">\n",
    "            Spring Semester | 2024 - 2025\n",
    "        </div>\n",
    "        <div style=\"font-size: 17px; font-weight: bold;\">\n",
    "            Master in Data Science and Advanced Analytics\n",
    "        </div>\n",
    "        <div style=\"margin-top: 20px;\">\n",
    "            <div>Diogo Duarte, 20240525</div>\n",
    "            <div>Rodrigo Sardinha, 20211627</div>\n",
    "            <div>Rui Luz, 20211628</div>\n",
    "        </div>\n",
    "        <div style=\"margin-top: 20px; font-weight: bold;\">\n",
    "            Group AE\n",
    "        </div>\n",
    "    </div>\n",
    "</div>"
   ]
  },
  {
   "cell_type": "markdown",
   "id": "817f7702",
   "metadata": {},
   "source": [
    "<div style=\"background: linear-gradient(to right,rgb(190, 214, 47), rgb(92, 102, 108));\n",
    "            padding: 1px; color: white; border-radius: 500px; text-align: center;\">\n",
    "</div>"
   ]
  },
  {
   "cell_type": "markdown",
   "id": "c2ca3ef3",
   "metadata": {},
   "source": [
    "# Imports"
   ]
  },
  {
   "cell_type": "code",
   "execution_count": 1,
   "id": "cdc97244",
   "metadata": {},
   "outputs": [],
   "source": [
    "import pandas as pd\n",
    "\n",
    "# import py files\n",
    "from Classes import Player, Team, LeagueIndividual\n",
    "from algorithms.GA_mutation import mutation_swap_players, mutation_regenerate_team, mutation_balance_teams\n",
    "from algorithms.GA_crossover import team_crossover, position_crossover"
   ]
  },
  {
   "cell_type": "markdown",
   "id": "1c8df12e",
   "metadata": {},
   "source": [
    "# Local Data"
   ]
  },
  {
   "cell_type": "code",
   "execution_count": 2,
   "id": "15147c6f",
   "metadata": {},
   "outputs": [],
   "source": [
    "df = pd.read_csv(\"data/players.csv\")\n",
    "df = df.drop(columns=['Unnamed: 0']) # drop the index column"
   ]
  },
  {
   "cell_type": "markdown",
   "id": "69775eb9",
   "metadata": {},
   "source": [
    "# Problem Configuration"
   ]
  },
  {
   "cell_type": "code",
   "execution_count": 3,
   "id": "bee5038c",
   "metadata": {},
   "outputs": [],
   "source": [
    "TEAM_SIZE = 7\n",
    "NUM_TEAMS = 5\n",
    "BUDGET_LIMIT = 750\n",
    "TEAM_STRUCTURE = {\"GK\": 1, \"DEF\": 2, \"MID\": 2, \"FWD\": 2}\n",
    "POPULATION_SIZE = 20"
   ]
  },
  {
   "cell_type": "markdown",
   "id": "f4211c45",
   "metadata": {},
   "source": [
    "# Convert DF to player objects"
   ]
  },
  {
   "cell_type": "code",
   "execution_count": 4,
   "id": "3cedf842",
   "metadata": {},
   "outputs": [],
   "source": [
    "players_by_position = {\n",
    "    pos: [Player.from_dict(row) for _, row in df[df['Position'] == pos].iterrows()]\n",
    "    for pos in TEAM_STRUCTURE\n",
    "}"
   ]
  },
  {
   "cell_type": "markdown",
   "id": "e7f3ac2a",
   "metadata": {},
   "source": [
    "# Generate Population"
   ]
  },
  {
   "cell_type": "code",
   "execution_count": 5,
   "id": "47f86e6b",
   "metadata": {},
   "outputs": [],
   "source": [
    "# === GENERATE POPULATION ===\n",
    "def generate_initial_population(size, players_by_position, team_structure, budget_limit, num_teams):\n",
    "    population = []\n",
    "    attempts = 0\n",
    "    max_attempts = 1000 # avoid infinite loop if unable to generate valid leagues\n",
    "\n",
    "    while len(population) < size and attempts < max_attempts:\n",
    "        indiv = LeagueIndividual(players_by_position, team_structure, budget_limit, num_teams)\n",
    "        if indiv.league is not None:\n",
    "            population.append(indiv)\n",
    "        attempts += 1\n",
    "\n",
    "    return population\n",
    "\n",
    "population = generate_initial_population(\n",
    "    POPULATION_SIZE,\n",
    "    players_by_position,\n",
    "    TEAM_STRUCTURE,\n",
    "    BUDGET_LIMIT, \n",
    "    NUM_TEAMS\n",
    ")"
   ]
  },
  {
   "cell_type": "code",
   "execution_count": null,
   "id": "9c6963b7",
   "metadata": {},
   "outputs": [],
   "source": [
    "# # PRINT ENTIRE POPULATION\n",
    "# def print_population(population):\n",
    "#     for i, indiv in enumerate(population):\n",
    "#         print(f\"\\n🏟️ League {i+1} | 🧬 Fitness: {indiv.fitness:.4f}\")\n",
    "#         all_names = set()\n",
    "#         for j, team in enumerate(indiv.league):\n",
    "#             names = [p.name for p in team.players]\n",
    "#             positions = [p.position for p in team.players]\n",
    "#             skill = team.avg_skill()\n",
    "#             salary = team.total_salary()\n",
    "#             print(f\"  🏆 Team {j+1} | 🧍 Positions: {positions} | 📊 Avg Skill: {skill:.2f} | 💰 Salary: {salary}M\")\n",
    "#\n",
    "#             # Optional: check for duplicate players within individual\n",
    "#             duplicates = set(names).intersection(all_names)\n",
    "#             if duplicates:\n",
    "#                 print(f\"    ⚠️ Duplicate Players: {duplicates}\")\n",
    "#             all_names.update(names)\n",
    "#\n",
    "# # Example usage:\n",
    "# print_population(population)"
   ]
  },
  {
   "cell_type": "markdown",
   "id": "ab0c5571",
   "metadata": {},
   "source": [
    "# Mutations"
   ]
  },
  {
   "cell_type": "markdown",
   "id": "8e8bbc70",
   "metadata": {},
   "source": [
    "## #1 Swap Players Betweeen Teams"
   ]
  },
  {
   "cell_type": "code",
   "execution_count": null,
   "id": "649833b2",
   "metadata": {},
   "outputs": [],
   "source": [
    "swap_players = mutation_swap_players(individual)\n",
    "print(swap_players)"
   ]
  },
  {
   "cell_type": "code",
   "execution_count": null,
   "id": "f94dad64",
   "metadata": {},
   "outputs": [],
   "source": [
    "if swap_players == individual:\n",
    "    print(\"⚠️  No mutation applied (swap failed after multiple attempts).\")\n",
    "else:\n",
    "    print(\"✅ Mutation applied successfully.\")"
   ]
  },
  {
   "cell_type": "markdown",
   "id": "e65e376c",
   "metadata": {},
   "source": [
    "### Testing code mutation_swap_players"
   ]
  },
  {
   "cell_type": "code",
   "execution_count": null,
   "id": "19d921e9",
   "metadata": {},
   "outputs": [],
   "source": [
    "# # test mutation_swap_players\n",
    "# \n",
    "# def print_league_details(league_indiv, label=\"\"):\n",
    "#     print(f\"\\n{'='*50}\\n🏟️  {label} (Fitness: {league_indiv.fitness:.4f})\\n{'='*50}\")\n",
    "#     \n",
    "#     all_players = set()\n",
    "#     valid = True\n",
    "# \n",
    "#     for i, team in enumerate(league_indiv.league):\n",
    "#         print(f\"\\n🏆 Team {i+1}\")\n",
    "#         for player in team.players:\n",
    "#             print(f\"  - {player}\")\n",
    "#         avg = team.avg_skill()\n",
    "#         total_salary = team.total_salary()\n",
    "#         print(f\"    📊 Avg Skill: {avg:.2f} | 💰 Total Salary: €{total_salary}M\")\n",
    "#         \n",
    "#         all_players.update(player.name for player in team.players)\n",
    "# \n",
    "#         if not team.is_valid(league_indiv.team_structure, league_indiv.budget_limit):\n",
    "#             print(\"    ❌ Invalid team (structure or budget)\")\n",
    "#             valid = False\n",
    "# \n",
    "#     expected_total = sum(league_indiv.team_structure.values()) * len(league_indiv.league)\n",
    "#     if len(all_players) != expected_total:\n",
    "#         print(\"⚠️  Duplicate players found across teams!\")\n",
    "#         valid = False\n",
    "# \n",
    "#     print(f\"\\n✅ Valid League: {valid}\")\n",
    "#     return valid\n",
    "# \n",
    "# \n",
    "# # === GENERATE ONE INDIVIDUAL AND MUTATE IT ===\n",
    "# original = LeagueIndividual(players_by_position, TEAM_STRUCTURE, BUDGET_LIMIT, NUM_TEAMS)\n",
    "# mutated = mutation_swap_players(original)\n",
    "# \n",
    "# # === PRINT RESULTS ===\n",
    "# print_league_details(original, \"Original League\")\n",
    "# print_league_details(mutated, \"Mutated League\")\n"
   ]
  },
  {
   "cell_type": "markdown",
   "id": "fd68da2e",
   "metadata": {},
   "source": [
    "## #2 Regenerate a Team Entirely"
   ]
  },
  {
   "cell_type": "code",
   "execution_count": null,
   "id": "bc64ef1e",
   "metadata": {},
   "outputs": [],
   "source": [
    "regenerate_team, success = mutation_regenerate_team(individual)\n",
    "print(regenerate_team)"
   ]
  },
  {
   "cell_type": "code",
   "execution_count": null,
   "id": "913df7c8",
   "metadata": {},
   "outputs": [],
   "source": [
    "if regenerate_team == individual:\n",
    "    print(\"⚠️  No mutation applied (regenerate team failed).\")\n",
    "else:\n",
    "    print(\"✅ Mutation applied successfully.\")"
   ]
  },
  {
   "cell_type": "markdown",
   "id": "d4ee2fa4",
   "metadata": {},
   "source": [
    "### Testing code mutation_regenerate_team"
   ]
  },
  {
   "cell_type": "code",
   "execution_count": null,
   "id": "677212ca",
   "metadata": {},
   "outputs": [],
   "source": [
    "# def print_player_diff(orig_players, new_players):\n",
    "#     orig_names = set(p.name for p in orig_players)\n",
    "#     new_names = set(p.name for p in new_players)\n",
    "#     added = new_names - orig_names\n",
    "#     removed = orig_names - new_names\n",
    "#     return added, removed\n",
    "#\n",
    "# def print_detailed_comparison(original, mutated):\n",
    "#     print(f\"\\n{'='*60}\")\n",
    "#     print(f\"🏟️  Regenerate Team Mutation Comparison\")\n",
    "#     print(f\"📈 Fitness: {original.fitness:.4f} → {mutated.fitness:.4f}\")\n",
    "#     print(f\"{'='*60}\\n\")\n",
    "#\n",
    "#     # === First Pass: Determine the regenerated team ===\n",
    "#     max_changes = 0\n",
    "#     regenerated_team_index = None\n",
    "#     for i, (team_orig, team_mut) in enumerate(zip(original.league, mutated.league)):\n",
    "#         orig_names = set(p.name for p in team_orig.players)\n",
    "#         new_names = set(p.name for p in team_mut.players)\n",
    "#         changes = len(orig_names.symmetric_difference(new_names))\n",
    "#         if changes > max_changes:\n",
    "#             max_changes = changes\n",
    "#             regenerated_team_index = i\n",
    "#\n",
    "#     # === Second Pass: Print teams ===\n",
    "#     for i, (team_orig, team_mut) in enumerate(zip(original.league, mutated.league)):\n",
    "#         team_label = f\"🏆 Team {i+1}\"\n",
    "#         if i == regenerated_team_index:\n",
    "#             team_label += \" 🆕\"\n",
    "#         print(f\"\\n{team_label}\")\n",
    "#\n",
    "#         print(f\"Original Team:\")\n",
    "#         for p in team_orig.players:\n",
    "#             print(f\"  - {p}\")\n",
    "#         print(f\"    📊 Avg Skill: {team_orig.avg_skill():.2f} | 💰 Salary: €{team_orig.total_salary()}M\")\n",
    "#\n",
    "#         print(f\"Mutated Team:\")\n",
    "#         for p in team_mut.players:\n",
    "#             print(f\"  - {p}\")\n",
    "#         print(f\"    📊 Avg Skill: {team_mut.avg_skill():.2f} | 💰 Salary: €{team_mut.total_salary()}M\")\n",
    "#\n",
    "#         added, removed = print_player_diff(team_orig.players, team_mut.players)\n",
    "#         if added or removed:\n",
    "#             print(f\"    ➕ Added: {', '.join(added) if added else 'None'}\")\n",
    "#             print(f\"    ➖ Removed: {', '.join(removed) if removed else 'None'}\")\n",
    "#\n",
    "#     print(f\"\\n✅ League Valid: {all(team.is_valid(mutated.team_structure, mutated.budget_limit) for team in mutated.league)}\")\n",
    "#     print(f\"📌 Regenerated Team: Team {regenerated_team_index + 1 if regenerated_team_index is not None else 'Unknown'}\")\n",
    "\n",
    "# # === GENERATE ONE INDIVIDUAL AND MUTATE IT ===\n",
    "# original = LeagueIndividual(players_by_position, TEAM_STRUCTURE, BUDGET_LIMIT, NUM_TEAMS)\n",
    "# mutated, success = mutation_regenerate_team(original)\n",
    "#\n",
    "# if success:\n",
    "#     print_detailed_comparison(original, mutated)\n",
    "# else:\n",
    "#     print(\"⚠️ Mutation failed (could not perform valid regeneration)\")"
   ]
  },
  {
   "cell_type": "markdown",
   "id": "21d9139b",
   "metadata": {},
   "source": [
    "## #3 Balance Teams Average Skill (std dev)"
   ]
  },
  {
   "cell_type": "code",
   "execution_count": null,
   "id": "537f5439",
   "metadata": {},
   "outputs": [],
   "source": [
    "third_mutation = mutation_balance_teams(individual)\n",
    "print(third_mutation)"
   ]
  },
  {
   "cell_type": "code",
   "execution_count": null,
   "id": "92c3d2f7",
   "metadata": {},
   "outputs": [],
   "source": [
    "if third_mutation == individual:\n",
    "    print(\"⚠️  No mutation applied (swap failed after multiple attempts).\")\n",
    "else:\n",
    "    print(\"✅ Mutation applied successfully.\")"
   ]
  },
  {
   "cell_type": "markdown",
   "id": "d0b1fce9",
   "metadata": {},
   "source": [
    "### Testing code mutation_balance_teams"
   ]
  },
  {
   "cell_type": "code",
   "execution_count": null,
   "id": "3ab8ea27",
   "metadata": {},
   "outputs": [],
   "source": [
    "# def print_player_diff(orig_players, new_players):\n",
    "#     orig_names = set(p.name for p in orig_players)\n",
    "#     new_names = set(p.name for p in new_players)\n",
    "#     added = new_names - orig_names\n",
    "#     removed = orig_names - new_names\n",
    "#     return added, removed\n",
    "#\n",
    "# def print_detailed_comparison(original, mutated):\n",
    "#     print(f\"\\n{'='*60}\")\n",
    "#     print(f\"🏟️  Mutation Comparison\")\n",
    "#     print(f\"📈 Fitness: {original.fitness:.4f} → {mutated.fitness:.4f}\")\n",
    "#     print(f\"{'='*60}\\n\")\n",
    "#\n",
    "#     # Identify most-changed team\n",
    "#     max_changes = 0\n",
    "#     regenerated_team_index = None\n",
    "#     for i, (t1, t2) in enumerate(zip(original.league, mutated.league)):\n",
    "#         orig_names = set(p.name for p in t1.players)\n",
    "#         new_names = set(p.name for p in t2.players)\n",
    "#         changes = len(orig_names.symmetric_difference(new_names))\n",
    "#         if changes > max_changes:\n",
    "#             max_changes = changes\n",
    "#             regenerated_team_index = i\n",
    "#\n",
    "#     # Print comparison\n",
    "#     for i, (t1, t2) in enumerate(zip(original.league, mutated.league)):\n",
    "#         team_label = f\"🏆 Team {i+1}\" + (\" 🆕\" if i == regenerated_team_index else \"\")\n",
    "#         print(f\"\\n{team_label}\")\n",
    "#\n",
    "#         print(\"Original Team:\")\n",
    "#         for p in t1.players:\n",
    "#             print(f\"  - {p}\")\n",
    "#         print(f\"    📊 Avg Skill: {t1.avg_skill():.2f} | 💰 Salary: €{t1.total_salary()}M\")\n",
    "#\n",
    "#         print(\"Mutated Team:\")\n",
    "#         for p in t2.players:\n",
    "#             print(f\"  - {p}\")\n",
    "#         print(f\"    📊 Avg Skill: {t2.avg_skill():.2f} | 💰 Salary: €{t2.total_salary()}M\")\n",
    "#\n",
    "#         added, removed = print_player_diff(t1.players, t2.players)\n",
    "#         if added or removed:\n",
    "#             print(f\"    ➕ Added: {', '.join(added) if added else 'None'}\")\n",
    "#             print(f\"    ➖ Removed: {', '.join(removed) if removed else 'None'}\")\n",
    "#\n",
    "#     print(f\"\\n✅ League Valid: {all(t.is_valid(mutated.team_structure, mutated.budget_limit) for t in mutated.league)}\")\n",
    "#     print(f\"📌 Most changed team: Team {regenerated_team_index + 1 if regenerated_team_index is not None else 'Unknown'}\")\n"
   ]
  },
  {
   "cell_type": "code",
   "execution_count": null,
   "id": "7aeda7e4",
   "metadata": {},
   "outputs": [],
   "source": [
    "# def test_mutation_balance_teams():\n",
    "#     from GA_mutation import mutation_balance_teams\n",
    "#\n",
    "#     print(\"\\n=== Testing: mutation_balance_teams ===\")\n",
    "#\n",
    "#     # Generate a sample individual\n",
    "#     original = LeagueIndividual(players_by_position, TEAM_STRUCTURE, BUDGET_LIMIT, NUM_TEAMS)\n",
    "#     mutated = mutation_balance_teams(original)\n",
    "#\n",
    "#     # Compare fitness\n",
    "#     print(f\"\\n📈 Original Fitness: {original.fitness:.4f}\")\n",
    "#     print(f\"📉 Mutated Fitness:  {mutated.fitness:.4f}\")\n",
    "#\n",
    "#     # Identify changed teams\n",
    "#     changed_teams = []\n",
    "#     for i, (t1, t2) in enumerate(zip(original.league, mutated.league)):\n",
    "#         if set(p.name for p in t1.players) != set(p.name for p in t2.players):\n",
    "#             changed_teams.append(i + 1)\n",
    "#\n",
    "#     if mutated.fitness < original.fitness:\n",
    "#         print(\"\\n✅ Mutation successful! Fitness improved.\")\n",
    "#     else:\n",
    "#         print(\"\\n⚠️ No mutation applied. Fitness unchanged.\")\n",
    "#\n",
    "#     print(f\"\\n🔁 Changed team(s): {changed_teams if changed_teams else 'None'}\")\n",
    "#\n",
    "#     # Optionally, print detailed comparison\n",
    "#     print_detailed_comparison(original, mutated)\n"
   ]
  },
  {
   "cell_type": "code",
   "execution_count": null,
   "id": "caa873c1",
   "metadata": {},
   "outputs": [],
   "source": [
    "# test_mutation_balance_teams()"
   ]
  },
  {
   "cell_type": "markdown",
   "id": "8d3544ea",
   "metadata": {},
   "source": [
    "# Crossovers"
   ]
  },
  {
   "cell_type": "markdown",
   "id": "10403f20",
   "metadata": {},
   "source": [
    "## #1 Crossover by Team"
   ]
  },
  {
   "cell_type": "code",
   "execution_count": null,
   "id": "4474d1c8",
   "metadata": {},
   "outputs": [],
   "source": [
    "print(population)"
   ]
  },
  {
   "cell_type": "code",
   "execution_count": null,
   "id": "4c677d3f",
   "metadata": {},
   "outputs": [],
   "source": [
    "# Generate Parents\n",
    "parent1 = population[0]\n",
    "parent2 = population[1]"
   ]
  },
  {
   "cell_type": "code",
   "execution_count": null,
   "id": "5b366f32",
   "metadata": {},
   "outputs": [],
   "source": [
    "team_co = team_crossover(parent1, parent2)\n",
    "print(team_co)"
   ]
  },
  {
   "cell_type": "markdown",
   "id": "ed9590e9",
   "metadata": {},
   "source": [
    "### Testing code team_crossover"
   ]
  },
  {
   "cell_type": "code",
   "execution_count": 8,
   "id": "4112ecc0",
   "metadata": {},
   "outputs": [],
   "source": [
    "\n",
    "# # Select parents from existing population\n",
    "# parent1 = population[0]\n",
    "# parent2 = population[1]\n",
    "\n",
    "# # Apply team crossover\n",
    "# child1, child2 = team_crossover(parent1, parent2)\n",
    "\n",
    "# # Pretty printer for LeagueIndividuals\n",
    "# def print_league(individual, label):\n",
    "#     print(f\"\\n{label} | 🧬 Fitness: {individual.fitness:.4f}\")\n",
    "#     for i, team in enumerate(individual.league):\n",
    "#         print(f\"🏆 Team {i+1}:\")\n",
    "#         for p in team.players:\n",
    "#             print(f\"    {p.name} ({p.position}) - 📊 Skill: {p.skill} - 💰 Salary: €{p.salary}M\")\n",
    "\n",
    "\n",
    "# # Print parents and children\n",
    "# print_league(parent1, \"👨 Parent 1\")\n",
    "# print_league(parent2, \"👩 Parent 2\")\n",
    "# print_league(child1,  \"🧒 Child 1 (Team Crossover)\")\n",
    "# print_league(child2,  \"🧒 Child 2 (Team Crossover)\")\n"
   ]
  },
  {
   "cell_type": "markdown",
   "id": "d10a3cc7",
   "metadata": {},
   "source": [
    "## #2 Crossover by Position"
   ]
  },
  {
   "cell_type": "code",
   "execution_count": null,
   "id": "c22ca6ce",
   "metadata": {},
   "outputs": [],
   "source": [
    "position_co = position_crossover(parent1, parent2)  \n",
    "print(position_co)"
   ]
  },
  {
   "cell_type": "markdown",
   "id": "e47c8e2e",
   "metadata": {},
   "source": [
    "### Testing code position_crossover"
   ]
  },
  {
   "cell_type": "code",
   "execution_count": 10,
   "id": "42d6c0d8",
   "metadata": {},
   "outputs": [],
   "source": [
    "# # === POSITION_CROSSOVER TESTING ===\n",
    "\n",
    "# # Select parents from existing population\n",
    "# parent1 = population[0]\n",
    "# parent2 = population[1]\n",
    "\n",
    "# # Apply position crossover\n",
    "# child1_pos, child2_pos = position_crossover(parent1, parent2)\n",
    "\n",
    "# # Pretty printer for LeagueIndividuals\n",
    "# def print_league(individual, label):\n",
    "#     print(f\"\\n{label} | 🧬 Fitness: {individual.fitness:.4f}\")\n",
    "#     for i, team in enumerate(individual.league):\n",
    "#         print(f\"🏆 Team {i+1}:\")\n",
    "#         for p in team.players:\n",
    "#             print(f\"    {p.name} ({p.position}) - 📊 Skill: {p.skill} - 💰 Salary: €{p.salary}M\")\n",
    "\n",
    "# # Print detailed structure of both parents and children\n",
    "# print_league(parent1, \"👨 Parent 1\")\n",
    "# print_league(parent2, \"👩 Parent 2\")\n",
    "# print_league(child1_pos, \"👶 Child 1 (Position Crossover)\")\n",
    "# print_league(child2_pos, \"👶 Child 2 (Position Crossover)\")\n"
   ]
  }
 ],
 "metadata": {
  "kernelspec": {
   "display_name": "MLProjectEnv",
   "language": "python",
   "name": "python3"
  },
  "language_info": {
   "codemirror_mode": {
    "name": "ipython",
    "version": 3
   },
   "file_extension": ".py",
   "mimetype": "text/x-python",
   "name": "python",
   "nbconvert_exporter": "python",
   "pygments_lexer": "ipython3",
   "version": "3.12.8"
  }
 },
 "nbformat": 4,
 "nbformat_minor": 5
}
