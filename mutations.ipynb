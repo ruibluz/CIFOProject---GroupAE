{
 "cells": [
  {
   "cell_type": "markdown",
   "id": "5ab0e93d",
   "metadata": {},
   "source": [
    "# Imports"
   ]
  },
  {
   "cell_type": "code",
   "execution_count": 1,
   "id": "1069ceab",
   "metadata": {},
   "outputs": [],
   "source": [
    "import random\n",
    "import pandas as pd\n",
    "import numpy as np\n",
    "from copy import deepcopy\n",
    "from pprint import pprint"
   ]
  },
  {
   "cell_type": "markdown",
   "id": "aceac45c",
   "metadata": {},
   "source": [
    "# Load Data"
   ]
  },
  {
   "cell_type": "code",
   "execution_count": 2,
   "id": "e6ace741",
   "metadata": {},
   "outputs": [],
   "source": [
    "df = pd.read_csv(\"data/players.csv\")\n",
    "df = df.drop(columns=['Unnamed: 0'])"
   ]
  },
  {
   "cell_type": "markdown",
   "id": "ff91dacd",
   "metadata": {},
   "source": [
    "# Problem Configuration"
   ]
  },
  {
   "cell_type": "code",
   "execution_count": 3,
   "id": "4195a8eb",
   "metadata": {},
   "outputs": [],
   "source": [
    "TEAM_SIZE = 7\n",
    "NUM_TEAMS = 5\n",
    "BUDGET_LIMIT = 750\n",
    "TEAM_STRUCTURE = {\"GK\": 1, \"DEF\": 2, \"MID\": 2, \"FWD\": 2}\n",
    "POPULATION_SIZE = 10"
   ]
  },
  {
   "cell_type": "code",
   "execution_count": 4,
   "id": "23dfe1c1",
   "metadata": {},
   "outputs": [],
   "source": [
    "# Group players by position\n",
    "players_by_position = {\n",
    "    \"GK\": df[df['Position'] == \"GK\"].to_dict('records'),\n",
    "    \"DEF\": df[df['Position'] == \"DEF\"].to_dict('records'),\n",
    "    \"MID\": df[df['Position'] == \"MID\"].to_dict('records'),\n",
    "    \"FWD\": df[df['Position'] == \"FWD\"].to_dict('records')\n",
    "}"
   ]
  },
  {
   "cell_type": "code",
   "execution_count": 5,
   "id": "3907db3b",
   "metadata": {},
   "outputs": [
    {
     "name": "stdout",
     "output_type": "stream",
     "text": [
      "\n",
      "--- GK (5 players) ---\n",
      "Name: Alex Carter, Skill: 85, Salary: €90M\n",
      "Name: Jordan Smith, Skill: 88, Salary: €100M\n",
      "Name: Ryan Mitchell, Skill: 83, Salary: €85M\n",
      "Name: Chris Thompson, Skill: 80, Salary: €80M\n",
      "Name: Blake Henderson, Skill: 87, Salary: €95M\n",
      "\n",
      "--- DEF (10 players) ---\n",
      "Name: Daniel Foster, Skill: 90, Salary: €110M\n",
      "Name: Lucas Bennett, Skill: 85, Salary: €90M\n",
      "Name: Owen Parker, Skill: 88, Salary: €100M\n",
      "Name: Ethan Howard, Skill: 80, Salary: €70M\n",
      "Name: Mason Reed, Skill: 82, Salary: €75M\n",
      "Name: Logan Brooks, Skill: 86, Salary: €95M\n",
      "Name: Caleb Fisher, Skill: 84, Salary: €85M\n",
      "Name: Maxwell Flores, Skill: 81, Salary: €72M\n",
      "Name: Jaxon Griffin, Skill: 79, Salary: €65M\n",
      "Name: Brayden Hughes, Skill: 87, Salary: €100M\n",
      "\n",
      "--- MID (10 players) ---\n",
      "Name: Nathan Wright, Skill: 92, Salary: €120M\n",
      "Name: Connor Hayes, Skill: 89, Salary: €105M\n",
      "Name: Dylan Morgan, Skill: 91, Salary: €115M\n",
      "Name: Hunter Cooper, Skill: 83, Salary: €85M\n",
      "Name: Austin Torres, Skill: 82, Salary: €80M\n",
      "Name: Gavin Richardson, Skill: 87, Salary: €95M\n",
      "Name: Spencer Ward, Skill: 84, Salary: €85M\n",
      "Name: Bentley Rivera, Skill: 88, Salary: €100M\n",
      "Name: Dominic Bell, Skill: 86, Salary: €95M\n",
      "Name: Ashton Phillips, Skill: 90, Salary: €110M\n",
      "\n",
      "--- FWD (10 players) ---\n",
      "Name: Sebastian Perry, Skill: 95, Salary: €150M\n",
      "Name: Xavier Bryant, Skill: 90, Salary: €120M\n",
      "Name: Elijah Sanders, Skill: 93, Salary: €140M\n",
      "Name: Adrian Collins, Skill: 85, Salary: €90M\n",
      "Name: Tyler Jenkins, Skill: 80, Salary: €70M\n",
      "Name: Chase Murphy, Skill: 86, Salary: €95M\n",
      "Name: Landon Powell, Skill: 89, Salary: €110M\n",
      "Name: Julian Scott, Skill: 92, Salary: €130M\n",
      "Name: Colton Gray, Skill: 91, Salary: €125M\n",
      "Name: Zachary Nelson, Skill: 86, Salary: €92M\n"
     ]
    }
   ],
   "source": [
    "# print players by each position\n",
    "for position, players in players_by_position.items():\n",
    "    print(f\"\\n--- {position} ({len(players)} players) ---\")\n",
    "    for player in players:\n",
    "        print(f\"Name: {player['Name']}, Skill: {player['Skill']}, Salary: €{player['Salary (€M)']}M\")\n"
   ]
  },
  {
   "cell_type": "code",
   "execution_count": 6,
   "id": "294414cf",
   "metadata": {},
   "outputs": [],
   "source": [
    "# create a valid team\n",
    "def create_valid_team(available_players):\n",
    "    team = []\n",
    "    used_ids = set()\n",
    "    for pos, count in TEAM_STRUCTURE.items():\n",
    "        candidates = [p for p in available_players[pos] if id(p) not in used_ids]\n",
    "        if len(candidates) < count:\n",
    "            return None, set()  # não há jogadores suficientes\n",
    "        selected = random.sample(candidates, count)\n",
    "        for player in selected:\n",
    "            used_ids.add(id(player))\n",
    "            team.append(player)\n",
    "    return team, used_ids"
   ]
  },
  {
   "cell_type": "code",
   "execution_count": 7,
   "id": "fc66ad86",
   "metadata": {},
   "outputs": [
    {
     "name": "stdout",
     "output_type": "stream",
     "text": [
      "GK: Alex Carter | Skill: 85 | Salary: €90M\n",
      "DEF: Brayden Hughes | Skill: 87 | Salary: €100M\n",
      "DEF: Ethan Howard | Skill: 80 | Salary: €70M\n",
      "MID: Dominic Bell | Skill: 86 | Salary: €95M\n",
      "MID: Austin Torres | Skill: 82 | Salary: €80M\n",
      "FWD: Xavier Bryant | Skill: 90 | Salary: €120M\n",
      "FWD: Tyler Jenkins | Skill: 80 | Salary: €70M\n"
     ]
    }
   ],
   "source": [
    "# print a valid team just for testing\n",
    "team, used_ids = create_valid_team(players_by_position)\n",
    "if team:\n",
    "    for player in team:\n",
    "        print(f\"{player['Position']}: {player['Name']} | Skill: {player['Skill']} | Salary: €{player['Salary (€M)']}M\")\n",
    "else:\n",
    "    print(\"Failed to create a valid team.\")"
   ]
  },
  {
   "cell_type": "code",
   "execution_count": 8,
   "id": "d48eaefc",
   "metadata": {},
   "outputs": [],
   "source": [
    "# create a league = one individual = one possible solution\n",
    "def create_league():\n",
    "    all_players = deepcopy(players_by_position)\n",
    "    league = []\n",
    "    used_ids_total = set() # tracks all players used so far across all teams to avoid duplication\n",
    "    for _ in range(NUM_TEAMS):\n",
    "        team, used_ids = create_valid_team(all_players)\n",
    "        if team is None or sum(p['Salary (€M)'] for p in team) > BUDGET_LIMIT:\n",
    "            return None  # invalid team\n",
    "        league.append(team)\n",
    "        used_ids_total.update(used_ids)\n",
    "        for pos in players_by_position:\n",
    "            all_players[pos] = [p for p in all_players[pos] if id(p) not in used_ids_total] # remove used players\n",
    "    return league"
   ]
  },
  {
   "cell_type": "code",
   "execution_count": 9,
   "id": "787ca203",
   "metadata": {},
   "outputs": [
    {
     "name": "stdout",
     "output_type": "stream",
     "text": [
      "\n",
      "🏆 Team 1\n"
     ]
    },
    {
     "ename": "TypeError",
     "evalue": "list indices must be integers or slices, not str",
     "output_type": "error",
     "traceback": [
      "\u001b[1;31m---------------------------------------------------------------------------\u001b[0m",
      "\u001b[1;31mTypeError\u001b[0m                                 Traceback (most recent call last)",
      "Cell \u001b[1;32mIn[9], line 8\u001b[0m\n\u001b[0;32m      6\u001b[0m \u001b[38;5;28;01mfor\u001b[39;00m team_index, entry \u001b[38;5;129;01min\u001b[39;00m \u001b[38;5;28menumerate\u001b[39m(league, start\u001b[38;5;241m=\u001b[39m\u001b[38;5;241m1\u001b[39m):\n\u001b[0;32m      7\u001b[0m     \u001b[38;5;28mprint\u001b[39m(\u001b[38;5;124mf\u001b[39m\u001b[38;5;124m\"\u001b[39m\u001b[38;5;130;01m\\n\u001b[39;00m\u001b[38;5;124m🏆 Team \u001b[39m\u001b[38;5;132;01m{\u001b[39;00mteam_index\u001b[38;5;132;01m}\u001b[39;00m\u001b[38;5;124m\"\u001b[39m)\n\u001b[1;32m----> 8\u001b[0m     \u001b[38;5;28;01mfor\u001b[39;00m player \u001b[38;5;129;01min\u001b[39;00m \u001b[43mentry\u001b[49m\u001b[43m[\u001b[49m\u001b[38;5;124;43m\"\u001b[39;49m\u001b[38;5;124;43mPlayers\u001b[39;49m\u001b[38;5;124;43m\"\u001b[39;49m\u001b[43m]\u001b[49m:\n\u001b[0;32m      9\u001b[0m         \u001b[38;5;28mprint\u001b[39m(\u001b[38;5;124mf\u001b[39m\u001b[38;5;124m\"\u001b[39m\u001b[38;5;124m  \u001b[39m\u001b[38;5;132;01m{\u001b[39;00mplayer[\u001b[38;5;124m'\u001b[39m\u001b[38;5;124mPosition\u001b[39m\u001b[38;5;124m'\u001b[39m]\u001b[38;5;132;01m}\u001b[39;00m\u001b[38;5;124m - \u001b[39m\u001b[38;5;132;01m{\u001b[39;00mplayer[\u001b[38;5;124m'\u001b[39m\u001b[38;5;124mName\u001b[39m\u001b[38;5;124m'\u001b[39m]\u001b[38;5;132;01m}\u001b[39;00m\u001b[38;5;124m | Skill: \u001b[39m\u001b[38;5;132;01m{\u001b[39;00mplayer[\u001b[38;5;124m'\u001b[39m\u001b[38;5;124mSkill\u001b[39m\u001b[38;5;124m'\u001b[39m]\u001b[38;5;132;01m}\u001b[39;00m\u001b[38;5;124m | Salary: €\u001b[39m\u001b[38;5;132;01m{\u001b[39;00mplayer[\u001b[38;5;124m'\u001b[39m\u001b[38;5;124mSalary (€M)\u001b[39m\u001b[38;5;124m'\u001b[39m]\u001b[38;5;132;01m}\u001b[39;00m\u001b[38;5;124mM\u001b[39m\u001b[38;5;124m\"\u001b[39m)\n",
      "\u001b[1;31mTypeError\u001b[0m: list indices must be integers or slices, not str"
     ]
    }
   ],
   "source": [
    "league = create_league()\n",
    "\n",
    "if league is None:\n",
    "    print(\"❌ Failed to generate a valid league.\")\n",
    "else:\n",
    "    for team_index, entry in enumerate(league, start=1):\n",
    "        print(f\"\\n🏆 Team {team_index}\")\n",
    "        for player in entry[\"Players\"]:\n",
    "            print(f\"  {player['Position']} - {player['Name']} | Skill: {player['Skill']} | Salary: €{player['Salary (€M)']}M\")\n"
   ]
  },
  {
   "cell_type": "code",
   "execution_count": null,
   "id": "e99e1ffb",
   "metadata": {},
   "outputs": [],
   "source": [
    "# ======================\n",
    "# VALIDAR EQUIPA\n",
    "# ======================\n",
    "def is_valid_team(team):\n",
    "    if len(team) != TEAM_SIZE:\n",
    "        return False\n",
    "    pos_counts = {\"GK\": 0, \"DEF\": 0, \"MID\": 0, \"FWD\": 0}\n",
    "    total_salary = 0\n",
    "    ids = set()\n",
    "    for p in team:\n",
    "        pos_counts[p['Position']] += 1\n",
    "        total_salary += p['Salary (€M)']\n",
    "        ids.add(p['Name'])\n",
    "    return pos_counts == TEAM_STRUCTURE and total_salary <= BUDGET_LIMIT and len(ids) == TEAM_SIZE"
   ]
  },
  {
   "cell_type": "code",
   "execution_count": null,
   "id": "13927f04",
   "metadata": {},
   "outputs": [],
   "source": [
    "# ======================\n",
    "# FITNESS FUNCTION\n",
    "# ======================\n",
    "def fitness(individual):\n",
    "    if individual is None:\n",
    "        return float('inf')\n",
    "    means = []\n",
    "    used_names = set()\n",
    "    for team in individual:\n",
    "        if not is_valid_team(team):\n",
    "            return float('inf')\n",
    "        for p in team:\n",
    "            if p['Name'] in used_names:\n",
    "                return float('inf')  # jogador repetido\n",
    "            used_names.add(p['Name'])\n",
    "        avg_skill = np.mean([p['Skill'] for p in team])\n",
    "        means.append(avg_skill)\n",
    "    return np.std(means)  # quanto menor, melhor"
   ]
  },
  {
   "cell_type": "code",
   "execution_count": null,
   "id": "dfcc260c",
   "metadata": {},
   "outputs": [],
   "source": [
    "# ======================\n",
    "# GERAR POPULAÇÃO INICIAL\n",
    "# ======================\n",
    "def generate_initial_population(size=POPULATION_SIZE):\n",
    "    population = []\n",
    "    while len(population) < size:\n",
    "        indiv = create_individual()\n",
    "        if indiv is not None:\n",
    "            population.append(indiv)\n",
    "    return population\n",
    "\n"
   ]
  }
 ],
 "metadata": {
  "kernelspec": {
   "display_name": "MLProjectEnv",
   "language": "python",
   "name": "python3"
  },
  "language_info": {
   "codemirror_mode": {
    "name": "ipython",
    "version": 3
   },
   "file_extension": ".py",
   "mimetype": "text/x-python",
   "name": "python",
   "nbconvert_exporter": "python",
   "pygments_lexer": "ipython3",
   "version": "3.12.8"
  }
 },
 "nbformat": 4,
 "nbformat_minor": 5
}
