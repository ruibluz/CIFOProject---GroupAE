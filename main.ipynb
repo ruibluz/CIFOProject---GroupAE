{
 "cells": [
  {
   "cell_type": "markdown",
   "id": "c2ca3ef3",
   "metadata": {},
   "source": [
    "# Imports"
   ]
  },
  {
   "cell_type": "code",
   "execution_count": null,
   "id": "cdc97244",
   "metadata": {},
   "outputs": [],
   "source": [
    "import pandas as pd\n",
    "\n",
    "# import py files\n",
    "from Classes import Player, Team, LeagueIndividual\n",
    "from GA_mutation import mutation_swap_players, mutation_regenerate_team"
   ]
  },
  {
   "cell_type": "markdown",
   "id": "1c8df12e",
   "metadata": {},
   "source": [
    "# Local Data"
   ]
  },
  {
   "cell_type": "code",
   "execution_count": null,
   "id": "15147c6f",
   "metadata": {},
   "outputs": [],
   "source": [
    "df = pd.read_csv(\"data/players.csv\")\n",
    "df = df.drop(columns=['Unnamed: 0']) # drop the index column"
   ]
  },
  {
   "cell_type": "markdown",
   "id": "69775eb9",
   "metadata": {},
   "source": [
    "# Problem Configuration"
   ]
  },
  {
   "cell_type": "code",
   "execution_count": null,
   "id": "bee5038c",
   "metadata": {},
   "outputs": [],
   "source": [
    "TEAM_SIZE = 7\n",
    "NUM_TEAMS = 5\n",
    "BUDGET_LIMIT = 750\n",
    "TEAM_STRUCTURE = {\"GK\": 1, \"DEF\": 2, \"MID\": 2, \"FWD\": 2}\n",
    "POPULATION_SIZE = 10"
   ]
  },
  {
   "cell_type": "markdown",
   "id": "f4211c45",
   "metadata": {},
   "source": [
    "# Convert DF to player objects"
   ]
  },
  {
   "cell_type": "code",
   "execution_count": null,
   "id": "3cedf842",
   "metadata": {},
   "outputs": [],
   "source": [
    "players_by_position = {\n",
    "    pos: [Player.from_dict(row) for _, row in df[df['Position'] == pos].iterrows()]\n",
    "    for pos in TEAM_STRUCTURE\n",
    "}"
   ]
  },
  {
   "cell_type": "markdown",
   "id": "e7f3ac2a",
   "metadata": {},
   "source": [
    "# Generate Population"
   ]
  },
  {
   "cell_type": "code",
   "execution_count": null,
   "id": "47f86e6b",
   "metadata": {},
   "outputs": [],
   "source": [
    "# === GENERATE POPULATION ===\n",
    "def generate_initial_population(size, players_by_position, team_structure, budget_limit, num_teams):\n",
    "    population = []\n",
    "    attempts = 0\n",
    "    max_attempts = 1000 # avoid infinite loop if unable to generate valid leagues\n",
    "\n",
    "    while len(population) < size and attempts < max_attempts:\n",
    "        indiv = LeagueIndividual(players_by_position, team_structure, budget_limit, num_teams)\n",
    "        if indiv.league is not None:\n",
    "            population.append(indiv)\n",
    "        attempts += 1\n",
    "\n",
    "    return population\n",
    "\n",
    "population = generate_initial_population(\n",
    "    POPULATION_SIZE,\n",
    "    players_by_position,\n",
    "    TEAM_STRUCTURE,\n",
    "    BUDGET_LIMIT, \n",
    "    NUM_TEAMS\n",
    ")"
   ]
  },
  {
   "cell_type": "markdown",
   "id": "8b3c79d5",
   "metadata": {},
   "source": [
    "# Check if Classes are working"
   ]
  },
  {
   "cell_type": "code",
   "execution_count": null,
   "id": "adacf965",
   "metadata": {},
   "outputs": [],
   "source": [
    "# === EXAMPLE USAGE ===\n",
    "individual = LeagueIndividual(players_by_position, TEAM_STRUCTURE, BUDGET_LIMIT, NUM_TEAMS)\n",
    "\n",
    "# Print result\n",
    "print(\"\\n=== One League Example ===\")\n",
    "for i, team in enumerate(individual.league):\n",
    "    print(f\"\\n🏆 Team {i + 1}\")\n",
    "    print(team)\n",
    "    print(f\"Avg Skill: {team.avg_skill():.2f} | Total Salary: €{team.total_salary()}M\")\n",
    "\n",
    "print(f\"\\nFitness: {individual.fitness:.4f}\")"
   ]
  },
  {
   "cell_type": "code",
   "execution_count": null,
   "id": "e86c8e28",
   "metadata": {},
   "outputs": [],
   "source": [
    "\n",
    "\n",
    "# === PRINT POPULATION DETAILS ===\n",
    "for idx, indiv in enumerate(population):\n",
    "    print(\"\\n\" + \"=\" * 35)\n",
    "    print(f\"🏟️  League (Individual) {idx + 1}\")\n",
    "    print(\"=\" * 35)\n",
    "\n",
    "    for tidx, team in enumerate(indiv.league):\n",
    "        print(f\"\\n  🏆 Team {tidx + 1}\")\n",
    "        print(team)\n",
    "        print(f\"    📊 Avg Skill: {team.avg_skill():.2f}\")\n",
    "        print(f\"    💰 Total Salary: €{team.total_salary()}M\")\n",
    "\n",
    "    print(f\"\\n  ➤ League Fitness (Std Dev of team avg skill): {indiv.fitness:.4f}\")\n"
   ]
  },
  {
   "cell_type": "markdown",
   "id": "ab0c5571",
   "metadata": {},
   "source": [
    "# Mutations"
   ]
  },
  {
   "cell_type": "markdown",
   "id": "8e8bbc70",
   "metadata": {},
   "source": [
    "## Swap Players Betweeen Teams"
   ]
  },
  {
   "cell_type": "code",
   "execution_count": null,
   "id": "649833b2",
   "metadata": {},
   "outputs": [],
   "source": [
    "swap_players = mutation_swap_players(individual)\n",
    "print(swap_players)"
   ]
  },
  {
   "cell_type": "code",
   "execution_count": null,
   "id": "f94dad64",
   "metadata": {},
   "outputs": [],
   "source": [
    "if swap_players == individual:\n",
    "    print(\"⚠️  No mutation applied (swap failed after multiple attempts).\")\n",
    "else:\n",
    "    print(\"✅ Mutation applied successfully.\")"
   ]
  },
  {
   "cell_type": "code",
   "execution_count": null,
   "id": "19d921e9",
   "metadata": {},
   "outputs": [],
   "source": [
    "# # test mutation_swap_players\n",
    "# \n",
    "# def print_league_details(league_indiv, label=\"\"):\n",
    "#     print(f\"\\n{'='*50}\\n🏟️  {label} (Fitness: {league_indiv.fitness:.4f})\\n{'='*50}\")\n",
    "#     \n",
    "#     all_players = set()\n",
    "#     valid = True\n",
    "# \n",
    "#     for i, team in enumerate(league_indiv.league):\n",
    "#         print(f\"\\n🏆 Team {i+1}\")\n",
    "#         for player in team.players:\n",
    "#             print(f\"  - {player}\")\n",
    "#         avg = team.avg_skill()\n",
    "#         total_salary = team.total_salary()\n",
    "#         print(f\"    📊 Avg Skill: {avg:.2f} | 💰 Total Salary: €{total_salary}M\")\n",
    "#         \n",
    "#         all_players.update(player.name for player in team.players)\n",
    "# \n",
    "#         if not team.is_valid(league_indiv.team_structure, league_indiv.budget_limit):\n",
    "#             print(\"    ❌ Invalid team (structure or budget)\")\n",
    "#             valid = False\n",
    "# \n",
    "#     expected_total = sum(league_indiv.team_structure.values()) * len(league_indiv.league)\n",
    "#     if len(all_players) != expected_total:\n",
    "#         print(\"⚠️  Duplicate players found across teams!\")\n",
    "#         valid = False\n",
    "# \n",
    "#     print(f\"\\n✅ Valid League: {valid}\")\n",
    "#     return valid\n",
    "# \n",
    "# \n",
    "# # === GENERATE ONE INDIVIDUAL AND MUTATE IT ===\n",
    "# original = LeagueIndividual(players_by_position, TEAM_STRUCTURE, BUDGET_LIMIT, NUM_TEAMS)\n",
    "# mutated = mutation_swap_players(original)\n",
    "# \n",
    "# # === PRINT RESULTS ===\n",
    "# print_league_details(original, \"Original League\")\n",
    "# print_league_details(mutated, \"Mutated League\")\n"
   ]
  },
  {
   "cell_type": "code",
   "execution_count": null,
   "id": "bc64ef1e",
   "metadata": {},
   "outputs": [],
   "source": [
    "regenerate_team, success = mutation_regenerate_team(individual)\n",
    "print(regenerate_team)"
   ]
  },
  {
   "cell_type": "code",
   "execution_count": null,
   "id": "913df7c8",
   "metadata": {},
   "outputs": [],
   "source": [
    "if regenerate_team == individual:\n",
    "    print(\"⚠️  No mutation applied (regenerate team failed).\")\n",
    "else:\n",
    "    print(\"✅ Mutation applied successfully.\")"
   ]
  },
  {
   "cell_type": "code",
   "execution_count": null,
   "id": "677212ca",
   "metadata": {},
   "outputs": [],
   "source": [
    "# def print_player_diff(orig_players, new_players):\n",
    "#     orig_names = set(p.name for p in orig_players)\n",
    "#     new_names = set(p.name for p in new_players)\n",
    "#     added = new_names - orig_names\n",
    "#     removed = orig_names - new_names\n",
    "#     return added, removed\n",
    "#\n",
    "# def print_detailed_comparison(original, mutated):\n",
    "#     print(f\"\\n{'='*60}\")\n",
    "#     print(f\"🏟️  Regenerate Team Mutation Comparison\")\n",
    "#     print(f\"📈 Fitness: {original.fitness:.4f} → {mutated.fitness:.4f}\")\n",
    "#     print(f\"{'='*60}\\n\")\n",
    "#\n",
    "#     # === First Pass: Determine the regenerated team ===\n",
    "#     max_changes = 0\n",
    "#     regenerated_team_index = None\n",
    "#     for i, (team_orig, team_mut) in enumerate(zip(original.league, mutated.league)):\n",
    "#         orig_names = set(p.name for p in team_orig.players)\n",
    "#         new_names = set(p.name for p in team_mut.players)\n",
    "#         changes = len(orig_names.symmetric_difference(new_names))\n",
    "#         if changes > max_changes:\n",
    "#             max_changes = changes\n",
    "#             regenerated_team_index = i\n",
    "#\n",
    "#     # === Second Pass: Print teams ===\n",
    "#     for i, (team_orig, team_mut) in enumerate(zip(original.league, mutated.league)):\n",
    "#         team_label = f\"🏆 Team {i+1}\"\n",
    "#         if i == regenerated_team_index:\n",
    "#             team_label += \" 🆕\"\n",
    "#         print(f\"\\n{team_label}\")\n",
    "#\n",
    "#         print(f\"Original Team:\")\n",
    "#         for p in team_orig.players:\n",
    "#             print(f\"  - {p}\")\n",
    "#         print(f\"    📊 Avg Skill: {team_orig.avg_skill():.2f} | 💰 Salary: €{team_orig.total_salary()}M\")\n",
    "#\n",
    "#         print(f\"Mutated Team:\")\n",
    "#         for p in team_mut.players:\n",
    "#             print(f\"  - {p}\")\n",
    "#         print(f\"    📊 Avg Skill: {team_mut.avg_skill():.2f} | 💰 Salary: €{team_mut.total_salary()}M\")\n",
    "#\n",
    "#         added, removed = print_player_diff(team_orig.players, team_mut.players)\n",
    "#         if added or removed:\n",
    "#             print(f\"    ➕ Added: {', '.join(added) if added else 'None'}\")\n",
    "#             print(f\"    ➖ Removed: {', '.join(removed) if removed else 'None'}\")\n",
    "#\n",
    "#     print(f\"\\n✅ League Valid: {all(team.is_valid(mutated.team_structure, mutated.budget_limit) for team in mutated.league)}\")\n",
    "#     print(f\"📌 Regenerated Team: Team {regenerated_team_index + 1 if regenerated_team_index is not None else 'Unknown'}\")\n",
    "\n",
    "# # === GENERATE ONE INDIVIDUAL AND MUTATE IT ===\n",
    "# original = LeagueIndividual(players_by_position, TEAM_STRUCTURE, BUDGET_LIMIT, NUM_TEAMS)\n",
    "# mutated, success = mutation_regenerate_team(original)\n",
    "#\n",
    "# if success:\n",
    "#     print_detailed_comparison(original, mutated)\n",
    "# else:\n",
    "#     print(\"⚠️ Mutation failed (could not perform valid regeneration)\")"
   ]
  }
 ],
 "metadata": {
  "kernelspec": {
   "display_name": "MLProjectEnv",
   "language": "python",
   "name": "python3"
  },
  "language_info": {
   "codemirror_mode": {
    "name": "ipython",
    "version": 3
   },
   "file_extension": ".py",
   "mimetype": "text/x-python",
   "name": "python",
   "nbconvert_exporter": "python",
   "pygments_lexer": "ipython3",
   "version": "3.12.8"
  }
 },
 "nbformat": 4,
 "nbformat_minor": 5
}
